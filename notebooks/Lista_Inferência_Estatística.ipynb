{
  "cells": [
    {
      "cell_type": "markdown",
      "metadata": {
        "id": "qooiO2bTa-XG"
      },
      "source": [
        "# Inferência Estatística\n",
        "\n",
        "\n",
        "## Onde utilizaremos estes conceitos de inferência estatística?\n",
        "\n",
        "1. Estimação de parâmetros populacionais por meio de **INTERVALO DE CONFIANÇA**.\n",
        "2. **TESTE DE HIPÓTESES** para tomada de decisão.\n",
        "\n",
        "## TLC - Teorema do Limite Central\n",
        "\n",
        "$$\\bar X \\approx \\left( \\mu{_1} \\dfrac{\\sigma^2}{n} \\right)$$\n",
        "\n",
        "Para n grande ($n > 30$), proveniente de uma amostra aleatória simples, o TLC nos permite concluir que a\n",
        "distribuição amostral de *$\\bar x$* pode ser aproximada por uma distribuição normal.\n",
        "\n",
        "Para n pequeno ($n < 30$) a distribuição amostral de *$\\bar x$* pode ser considerada normal somente se a\n",
        "população tiver distribuição normal.\n",
        "\n",
        "## Tipos de Distribuições\n",
        "\n",
        "1. **Uniforme** \n",
        "  - Todos tem a mesma probabilidade de ocorrência;\n",
        "2. **Bernoulli**\n",
        "  - Aquela que o resultado da sua variável pode assumir apenas dois valores;\n",
        "  - Em que, **$p$** é a **probabilidade do evento de interesse** ocorrer, e **$1-p$** é a **probabilidade do evento complementar**.\n",
        "  - Ex. Lançamento de uma moeda, sexo do individuo;\n",
        "\n",
        "\n",
        "## Links e Referências\n",
        "\n",
        "- [Material UFSC - Distribuição Amostral](https://www.inf.ufsc.br/~andre.zibetti/probabilidade/distribuicao_amostral.html#:~:text=A%20distribui%C3%A7%C3%A3o%20das%20m%C3%A9dias%20amostrais,tamanho%20n%20de%20vari%C3%A1vel%20aleat%C3%B3ria.&text=Seja%20%C2%AFX%20uma%20vari%C3%A1vel,%2C%CF%832%2Fn)\n",
        "- [w3schools: Binomial Distribution](https://www.w3schools.com/python/numpy_random_binomial.asp)\n",
        "- [scipy.stats.binom](https://docs.scipy.org/doc/scipy/reference/generated/scipy.st.binom.html)\n"
      ]
    },
    {
      "cell_type": "markdown",
      "metadata": {
        "id": "Xgv_Yx6NhudY"
      },
      "source": [
        "## Imports"
      ]
    },
    {
      "cell_type": "code",
      "execution_count": 1,
      "metadata": {
        "id": "m1wOxInChxfX"
      },
      "outputs": [],
      "source": [
        "import math\n",
        "from numpy import random\n",
        "import matplotlib.pyplot as plt\n",
        "import seaborn as sns\n",
        "import scipy.stats as st\n",
        "import matplotlib.pyplot as plt\n",
        "import numpy as np"
      ]
    },
    {
      "cell_type": "markdown",
      "metadata": {
        "id": "E_Be9Gu-krA7"
      },
      "source": [
        "## Distribuição Binomial\n",
        "\n",
        "Trata se de uma distribuição discreta.\n",
        "\n",
        "Descreve o resultado de um cenário binário.\n",
        "\n",
        "It has three parameters:\n",
        "\n",
        "n - Número de tentativas.\n",
        "\n",
        "p - Probabilidade de ocorrência de um evento.\n",
        "\n",
        "size - The shape of the returned array.\n",
        "\n",
        "### Propriedades da Binomial\n",
        "\n",
        "1. O experimento consiste em uma sequência de n tentativas idênticas.\n",
        "2. Dois resultados, sucesso e falha, são possíveis em cada tentativa, ou seja, cada tentativa é uma\n",
        "Bernoulli.\n",
        "3. A probabilidade de sucesso, denotada por $p$, não muda de tentativa para tentativa.\n",
        "4. As tentativas são independentes entre si.\n",
        "\n",
        "$$f(k) = \\binom {n}{k} p^k (1-p)^{n-k}$$\n",
        "\n",
        "$$para \\; k \\in \\{ 0,1,...,n \\}, 0 \\leq p \\leq 1$$"
      ]
    },
    {
      "cell_type": "markdown",
      "metadata": {
        "id": "uGJ35gC4kwwC"
      },
      "source": [
        "### Exemplo\n",
        "Com 10 tentativas para um lançe de uma moeda gerar 10 pontos;"
      ]
    },
    {
      "cell_type": "code",
      "execution_count": 2,
      "metadata": {
        "cellView": "form",
        "colab": {
          "base_uri": "https://localhost:8080/",
          "height": 411
        },
        "id": "9O7uV0hnkzdr",
        "outputId": "1634947b-5ad6-4e2f-aa30-1555a70a4254"
      },
      "outputs": [
        {
          "name": "stdout",
          "output_type": "stream",
          "text": [
            "Distribuição: \n",
            " [ 7  7 10  7  6  8  5  6  9  5  5  5  7  7  5  5  8  9  8  6  8  8  7  6\n",
            " 10  9  8  4 10  6  6  9  9  4  7  5  8  7  7  5  9  7  9  6  7  7  6  7\n",
            "  6  7  6  8  7  8  8  4  6 10  6  9  7  7  8 10  8  9  8  4  6  8  7  7\n",
            "  7 10  9  7  9  5  7  7  6  6  8  6  7  8  8  7  9  7  4  6  5  6  3  6\n",
            "  5  9  8  9] \n",
            "\n"
          ]
        },
        {
          "name": "stderr",
          "output_type": "stream",
          "text": [
            "C:\\Users\\vinia\\AppData\\Local\\Packages\\PythonSoftwareFoundation.Python.3.9_qbz5n2kfra8p0\\LocalCache\\local-packages\\Python39\\site-packages\\seaborn\\distributions.py:2619: FutureWarning: `distplot` is a deprecated function and will be removed in a future version. Please adapt your code to use either `displot` (a figure-level function with similar flexibility) or `histplot` (an axes-level function for histograms).\n",
            "  warnings.warn(msg, FutureWarning)\n"
          ]
        },
        {
          "data": {
            "image/png": "[encoded data removed]",
            "text/plain": [
              "<Figure size 432x288 with 1 Axes>"
            ]
          },
          "metadata": {
            "needs_background": "light"
          },
          "output_type": "display_data"
        }
      ],
      "source": [
        "probabilidade = 0.7 #@param {type:\"slider\", min:0, max:1, step:0.05}\n",
        "amostra = 10 #@param {type:\"number\"}\n",
        "tentativas = 100 #@param {type:\"number\"}\n",
        "\n",
        "distribuicao = random.binomial(n=amostra, p=probabilidade, size=tentativas)\n",
        "\n",
        "print('Distribuição: \\n', distribuicao, '\\n')\n",
        "\n",
        "# Plot\n",
        "sns.distplot(distribuicao, hist=True, kde=False)\n",
        "plt.show()"
      ]
    },
    {
      "cell_type": "markdown",
      "metadata": {
        "id": "HHIKc-pejdub"
      },
      "source": [
        "### Exercícios Distribuição Binomial"
      ]
    },
    {
      "cell_type": "markdown",
      "metadata": {
        "id": "uNvi_fxqqPzA"
      },
      "source": [
        "#### Exercíco 1\n",
        "\n",
        "Uma empresa está preocupada com a taxa de retenção de seus funcionários. No último ano, o RH da empresa observou uma **taxa de demissão voluntária de 10%.**\n",
        "\n",
        "Assim, para qualquer funcionário escolhido aleatoriamente, o RH estima uma **probabilidade de 0,1 que a pessoa não estará na empresa no próximo ano**.\n",
        "\n",
        "**Escolhendo 3 funcionários** da empresa ao acaso, qual é a **probabilidade de 1 deles deixar a companhia** no próximo ano?\n",
        "\n",
        "**Resposta:** "
      ]
    },
    {
      "cell_type": "markdown",
      "metadata": {},
      "source": [
        "$P(X \\geq 1) = P(X = 1) + P(X = 2) + P(X = 3)$"
      ]
    },
    {
      "cell_type": "code",
      "execution_count": 4,
      "metadata": {
        "id": "zNuAyvuRj21F"
      },
      "outputs": [
        {
          "data": {
            "text/plain": [
              "0.271"
            ]
          },
          "execution_count": 4,
          "metadata": {},
          "output_type": "execute_result"
        }
      ],
      "source": [
        "# k => Número de sucessos\n",
        "n = 3 # Número de repetições\n",
        "p = 0.1 # Probabilidade de sucesso\n",
        "\n",
        "P = sum([st.binom.pmf(k, n, p) for k in range(1, 4)])\n",
        "round(P, 4)"
      ]
    },
    {
      "cell_type": "markdown",
      "metadata": {
        "id": "3-j7S2vSsm4S"
      },
      "source": [
        "#### Exercíco 2\n",
        "\n",
        "Um administrador de um hospital baseado em sua experiência, sabe que **5% de todas as grávidas** admitidas num pronto socorro (PS) devem ser colocadas para ter **acompanhamento da equipe médica especializada** em complicações de parto.\n",
        "\n",
        "Use este dado para estimar a probabilidade de que em **120 gestantes novas** admitidas em um dia no PS, **3 precisem da equipe média especializada**.\n",
        "\n",
        "**Resposta:**\n"
      ]
    },
    {
      "cell_type": "markdown",
      "metadata": {},
      "source": [
        "Sucesso $\\Rightarrow$ ter acompanhamento da equipe médica\n",
        "\n",
        "$P(X = 3)$"
      ]
    },
    {
      "cell_type": "code",
      "execution_count": 5,
      "metadata": {
        "id": "DdO61yFJukKX"
      },
      "outputs": [
        {
          "data": {
            "text/plain": [
              "0.0869"
            ]
          },
          "execution_count": 5,
          "metadata": {},
          "output_type": "execute_result"
        }
      ],
      "source": [
        "k = 3\n",
        "n = 120\n",
        "p = 0.05\n",
        "\n",
        "P = st.binom.pmf(k, n, p)\n",
        "round(P, 4)"
      ]
    },
    {
      "cell_type": "markdown",
      "metadata": {
        "id": "PI0Oz482vbDt"
      },
      "source": [
        "#### Exercíco 3\n",
        "\n",
        "Em uma pesquisa sobre o uso de cartão de crédito, foi identificado que\n",
        "9% dos estudantes universitários possuem limite de cartão de crédito\n",
        "acima de R$5.000. Suponha que 10 estudantes universitários sejam\n",
        "escolhidos aleatoriamente para uma entrevista em relação ao uso do\n",
        "cartão de crédito.\n",
        "\n",
        "(a) Qual a variável aleatória?\n",
        "\n",
        "(b) Qual a distribuição de probabilidade é adequada para modelar este\n",
        "problema?\n",
        "\n",
        "(c) Qual a probabilidade de nenhum estudante ter limite de crédito\n",
        "superior a R$5.000?\n",
        "\n",
        "(d) Qual a probabilidade de pelo menos três estudantes terem limites de\n",
        "crédito maiores do que R$5.000?\n",
        "\n",
        "**Respostas**\n",
        "\t\n"
      ]
    },
    {
      "cell_type": "markdown",
      "metadata": {},
      "source": [
        "**a)**\n",
        "\n",
        "A variável aleatória é a quantidade de estudantes com limite no cartão de crédito superior a R$5.000, 00"
      ]
    },
    {
      "cell_type": "markdown",
      "metadata": {},
      "source": [
        "**b)**\n",
        "\n",
        "A probabilidade adequada para modelar este problema é a binomial"
      ]
    },
    {
      "cell_type": "markdown",
      "metadata": {},
      "source": [
        "**c)**\n",
        "\n",
        "$P(X = 0)$"
      ]
    },
    {
      "cell_type": "code",
      "execution_count": 6,
      "metadata": {},
      "outputs": [
        {
          "data": {
            "text/plain": [
              "0.3894"
            ]
          },
          "execution_count": 6,
          "metadata": {},
          "output_type": "execute_result"
        }
      ],
      "source": [
        "k = 0\n",
        "n = 10\n",
        "p = 0.09\n",
        "\n",
        "round(st.binom.pmf(k, n, p), 4)"
      ]
    },
    {
      "cell_type": "markdown",
      "metadata": {},
      "source": [
        "**d)**\n",
        "\n",
        "$P(X \\geq 3) = P(X = 3) + P(X = 4) + P(X = 5) + P(X = 6) + P(X = 7) + P(X = 8) + P(X = 9) + P(X = 10)$"
      ]
    },
    {
      "cell_type": "code",
      "execution_count": 7,
      "metadata": {
        "id": "FaHfnQAvwH6V"
      },
      "outputs": [
        {
          "data": {
            "text/plain": [
              "0.054"
            ]
          },
          "execution_count": 7,
          "metadata": {},
          "output_type": "execute_result"
        }
      ],
      "source": [
        "n = 10\n",
        "p = 0.09\n",
        "\n",
        "P = sum([st.binom.pmf(k, n, p) for k in range(3, 11)])\n",
        "round(P, 4)"
      ]
    },
    {
      "cell_type": "markdown",
      "metadata": {
        "id": "h-_Ds1sMx5Da"
      },
      "source": [
        "## Distribuição Normal Padrão\n",
        "\n",
        "A Distribuição Normal é a distribuição mais importante da Estatística.\n",
        "\n",
        "Também é denominada Distribuição de Gauss ou Distribuição Gaussiana, em homenagem a Carl Firedrich Gauss, que assumiu que erros de medida poderiam ser modelados pela Distribuição Normal.\n",
        "\n",
        "$$ f(x) = \\dfrac{1}{\\sigma \\sqrt{2π}}e^{-\\dfrac{1}{2}\\left( \\dfrac{x - \\mu}{\\sigma} \\right)^2}$$\n",
        "\n",
        "<img src=\"https://upload.wikimedia.org/wikipedia/commons/thumb/7/74/Normal_Distribution_PDF.svg/720px-Normal_Distribution_PDF.svg.png\" width=\"500\">\n",
        "\n",
        "<img src=\"https://upload.wikimedia.org/wikipedia/commons/thumb/c/ca/Normal_Distribution_CDF.svg/720px-Normal_Distribution_CDF.svg.png\" width=\"500\">"
      ]
    },
    {
      "cell_type": "code",
      "execution_count": 8,
      "metadata": {},
      "outputs": [
        {
          "data": {
            "image/png": "[encoded data removed]",
            "text/plain": [
              "<Figure size 576x576 with 1 Axes>"
            ]
          },
          "metadata": {
            "needs_background": "light"
          },
          "output_type": "display_data"
        },
        {
          "data": {
            "image/png": "[encoded data removed]",
            "text/plain": [
              "<Figure size 576x576 with 1 Axes>"
            ]
          },
          "metadata": {
            "needs_background": "light"
          },
          "output_type": "display_data"
        }
      ],
      "source": [
        "mus = [0.0, 0.0, 0.0, -2.0]\n",
        "variances = [0.2, 1.0, 5.0, 0.5]\n",
        "\n",
        "# Curva normal\n",
        "plt.figure(figsize=(8, 8))\n",
        "for mu, variance in zip(mus, variances):    \n",
        "    sigma = math.sqrt(variance)\n",
        "    x = np.linspace(mu - 3*sigma, mu + 3*sigma, 100)\n",
        "    plt.plot(x, st.norm.pdf(x, mu, sigma))\n",
        "\n",
        "plt.ylim((0, 1))\n",
        "plt.xlim((-6, 6))\n",
        "plt.xlabel('x', fontsize=24)\n",
        "plt.ylabel('$\\psi_{\\mu , \\sigma^2}(X)$', fontsize=24)\n",
        "\n",
        "plt.show()\n",
        "\n",
        "# Curva normal acumulada\n",
        "plt.figure(figsize=(8, 8))\n",
        "for mu, variance in zip(mus, variances):    \n",
        "    sigma = math.sqrt(variance)\n",
        "    x = np.linspace(mu - 3*sigma, mu + 3*sigma, 100)\n",
        "    plt.plot(x, st.norm.cdf(x, mu, sigma))\n",
        "\n",
        "plt.ylim((-0.1, 1.1))\n",
        "plt.xlim((-6, 6))\n",
        "plt.xlabel('x', fontsize=24)\n",
        "plt.ylabel('$\\Phi_{\\mu , \\sigma^2}(X)$', fontsize=24)\n",
        "\n",
        "plt.show()"
      ]
    },
    {
      "cell_type": "code",
      "execution_count": 9,
      "metadata": {
        "colab": {
          "base_uri": "https://localhost:8080/",
          "height": 50
        },
        "id": "d5qA2OhF0nvR",
        "outputId": "e6adebd0-31f7-4936-d12d-add2dd3d6acc"
      },
      "outputs": [
        {
          "name": "stdout",
          "output_type": "stream",
          "text": [
            "1.6448536269514722\n",
            "0.9494974165258963\n"
          ]
        }
      ],
      "source": [
        "# Inputa a probabilidade e ele mostra o Z\n",
        "print(st.norm.ppf(0.95))\n",
        "\n",
        "# Inputa o Z e ele retorna a probabilidade de -infinito ate o valor\n",
        "print(st.norm.cdf(1.64))"
      ]
    },
    {
      "cell_type": "markdown",
      "metadata": {
        "id": "JWlzKld_zUJn"
      },
      "source": [
        "### Exercícios"
      ]
    },
    {
      "cell_type": "markdown",
      "metadata": {
        "id": "huUVKjJhgyz5"
      },
      "source": [
        "#### Exercício: Faturamento de empresa de consultoria\n",
        "\n",
        "Uma empresa de consultoria possui um **faturamento mensal médio de 40\n",
        "milhões de reais** com **desvio padrão de 100 milhões de reais**. Assumindo que o\n",
        "faturamento desta empresa segue uma distribuição normal, qual a\n",
        "probabilidade de que em um determinado mês o faturamento:\n",
        "\n",
        "(a) seja superior a 50 milhões de reais ?\n",
        "\n",
        "(b) esteja entre 30 e 50 milhões de reais?\n",
        "\n",
        "(c) seja inferior a 30 milhões de reais?"
      ]
    },
    {
      "cell_type": "markdown",
      "metadata": {},
      "source": [
        "$\\sigma^2 = 100 M$\n",
        "\n",
        "$\\sigma = \\sqrt{100 M} = 10 k$\n",
        "\n",
        "$\\mu = 40 M$"
      ]
    },
    {
      "cell_type": "markdown",
      "metadata": {},
      "source": [
        "##### a)\n",
        "\n",
        "$ x = 50 M$"
      ]
    },
    {
      "cell_type": "code",
      "execution_count": 10,
      "metadata": {},
      "outputs": [],
      "source": [
        "def calculo_de_z(x, mu, sigma):\n",
        "    z = (x - mu) / sigma\n",
        "    return z"
      ]
    },
    {
      "cell_type": "code",
      "execution_count": 11,
      "metadata": {
        "id": "0QCBsnJza-A0"
      },
      "outputs": [
        {
          "name": "stdout",
          "output_type": "stream",
          "text": [
            "0.5398\n"
          ]
        }
      ],
      "source": [
        "x = 50000000\n",
        "mu = 40000000\n",
        "sigma = 100000000\n",
        "\n",
        "z = calculo_de_z(x=x, mu=mu, sigma=sigma)\n",
        "\n",
        "\n",
        "# Inputa o Z e ele retorna a prob ate o valor\n",
        "print(round(st.norm.cdf(z), 4))"
      ]
    },
    {
      "cell_type": "markdown",
      "metadata": {},
      "source": [
        "##### b)\n",
        "\n"
      ]
    },
    {
      "cell_type": "code",
      "execution_count": 12,
      "metadata": {},
      "outputs": [
        {
          "name": "stdout",
          "output_type": "stream",
          "text": [
            "0.0797\n"
          ]
        }
      ],
      "source": [
        "x_min = 30000000\n",
        "x_max = 50000000\n",
        "\n",
        "mu = 40000000\n",
        "sigma = 100000000\n",
        "\n",
        "z_max = calculo_de_z(x=x_max, mu=mu, sigma=sigma)\n",
        "z_min = calculo_de_z(x=x_min, mu=mu, sigma=sigma)\n",
        "\n",
        "print(round(st.norm.cdf(z_max) - st.norm.cdf(z_min), 4))"
      ]
    },
    {
      "cell_type": "markdown",
      "metadata": {},
      "source": [
        "##### c)"
      ]
    },
    {
      "cell_type": "code",
      "execution_count": 13,
      "metadata": {},
      "outputs": [
        {
          "name": "stdout",
          "output_type": "stream",
          "text": [
            "0.5398\n"
          ]
        }
      ],
      "source": [
        "print(round(1 - st.norm.cdf(z_min), 4))"
      ]
    },
    {
      "cell_type": "markdown",
      "metadata": {
        "id": "tcKxU2PAiAuz"
      },
      "source": [
        "#### Exercício: Vistoria\n",
        "\n",
        "Uma seguradora possui um gasto com vistoria de automóvel médio de 20 reais\n",
        "com um desvio padrão de 5 reais. Calcule as probabilidades de que, em uma\n",
        "determinada vistoria, o gasto seja:\n",
        "\n",
        "(a) superior a 30 reais.\n",
        "\n",
        "(b) inferior a 18 reais.\n",
        "\n",
        "(c) entre 15 e 28 reais."
      ]
    },
    {
      "cell_type": "markdown",
      "metadata": {},
      "source": [
        "$\\mu = R\\$20,00$\n",
        "\n",
        "$\\sigma = R\\$5,00$"
      ]
    },
    {
      "cell_type": "markdown",
      "metadata": {},
      "source": [
        "##### a)\n",
        "\n",
        "$x > R\\$30,00$"
      ]
    },
    {
      "cell_type": "code",
      "execution_count": 14,
      "metadata": {
        "id": "Y3kFaDc2iByz"
      },
      "outputs": [
        {
          "name": "stdout",
          "output_type": "stream",
          "text": [
            "A probabilidade de uma determinada vistoria gaste mais que R$30,00 é de: \n",
            " 0.023\n"
          ]
        }
      ],
      "source": [
        "x = 30\n",
        "mu = 20\n",
        "sigma = 5\n",
        "\n",
        "z = calculo_de_z(x=x, mu=mu, sigma=sigma)\n",
        "resposta = 1 - st.norm.cdf(z)\n",
        "\n",
        "print(f'A probabilidade de uma determinada vistoria gaste mais que R$30,00 é de: \\n {round(resposta, 3)}')"
      ]
    },
    {
      "cell_type": "markdown",
      "metadata": {},
      "source": [
        "##### b)\n",
        "\n",
        "$x < R\\$18,00$"
      ]
    },
    {
      "cell_type": "code",
      "execution_count": 15,
      "metadata": {},
      "outputs": [
        {
          "name": "stdout",
          "output_type": "stream",
          "text": [
            "A probabilidade de uma determinada vistoria gaste mais que R$30,00 é de: \n",
            " 0.345\n"
          ]
        }
      ],
      "source": [
        "x = 18\n",
        "\n",
        "z = calculo_de_z(x=x, mu=mu, sigma=sigma)\n",
        "resposta = st.norm.cdf(z)\n",
        "\n",
        "print(f'A probabilidade de uma determinada vistoria gaste mais que R$30,00 é de: \\n {round(resposta, 3)}')"
      ]
    },
    {
      "cell_type": "markdown",
      "metadata": {},
      "source": [
        "##### c)\n",
        "\n",
        "$R\\$15,00 < x < R\\$28,00$"
      ]
    },
    {
      "cell_type": "code",
      "execution_count": 16,
      "metadata": {},
      "outputs": [
        {
          "name": "stdout",
          "output_type": "stream",
          "text": [
            "A probabilidade de uma determinada vistoria gaste mais que R$30,00 é de: \n",
            " 0.787\n"
          ]
        }
      ],
      "source": [
        "x_min = 15\n",
        "x_max = 28\n",
        "\n",
        "z_min = calculo_de_z(x=x_min, mu=mu, sigma=sigma)\n",
        "z_max = calculo_de_z(x=x_max, mu=mu, sigma=sigma)\n",
        "\n",
        "resposta = st.norm.cdf(z_max) - st.norm.cdf(z_min)\n",
        "\n",
        "print(f'A probabilidade de uma determinada vistoria gaste mais que R$30,00 é de: \\n {round(resposta, 3)}')"
      ]
    },
    {
      "cell_type": "markdown",
      "metadata": {
        "id": "OqzcYZBp6zvX"
      },
      "source": [
        "#### 3.i. Funcionamento do sistema\n",
        "\n",
        "No sistema abaixo, cada componente tem probabilidade 0,7 de funcionar. Se uma das componentes falhar, o sistema não funciona. Suponha independência de funcionamento das componentes, qual a probabilidade de:\n",
        "\n",
        "c1 > c2 > (...) > c9\n",
        "\n",
        "(a) O sistema funcionar?\n",
        "\n",
        "(b) O sistema não funcionar?\n",
        "\n",
        "(c) Exatamente 2 componentes funcionarem?"
      ]
    },
    {
      "cell_type": "markdown",
      "metadata": {},
      "source": [
        "#### a)"
      ]
    },
    {
      "cell_type": "code",
      "execution_count": 17,
      "metadata": {
        "id": "eHgfCpfu6076"
      },
      "outputs": [
        {
          "data": {
            "text/plain": [
              "0.0404"
            ]
          },
          "execution_count": 17,
          "metadata": {},
          "output_type": "execute_result"
        }
      ],
      "source": [
        "k = 9\n",
        "n = 9\n",
        "p = 0.7\n",
        "\n",
        "round(st.binom.pmf(k, n, p), 4)"
      ]
    },
    {
      "cell_type": "markdown",
      "metadata": {},
      "source": [
        "#### b)"
      ]
    },
    {
      "cell_type": "code",
      "execution_count": 18,
      "metadata": {},
      "outputs": [
        {
          "data": {
            "text/plain": [
              "0.1556"
            ]
          },
          "execution_count": 18,
          "metadata": {},
          "output_type": "execute_result"
        }
      ],
      "source": [
        "k = 1\n",
        "n = 9\n",
        "p_falha = 1 - p\n",
        "\n",
        "round(st.binom.pmf(k, n, p_falha), 4)"
      ]
    },
    {
      "cell_type": "markdown",
      "metadata": {},
      "source": [
        "##### c)"
      ]
    },
    {
      "cell_type": "code",
      "execution_count": 19,
      "metadata": {},
      "outputs": [
        {
          "ename": "NameError",
          "evalue": "name 'binom' is not defined",
          "output_type": "error",
          "traceback": [
            "\u001b[1;31m---------------------------------------------------------------------------\u001b[0m",
            "\u001b[1;31mNameError\u001b[0m                                 Traceback (most recent call last)",
            "Input \u001b[1;32mIn [19]\u001b[0m, in \u001b[0;36m<cell line: 5>\u001b[1;34m()\u001b[0m\n\u001b[0;32m      2\u001b[0m n \u001b[39m=\u001b[39m \u001b[39m9\u001b[39m\n\u001b[0;32m      3\u001b[0m p \u001b[39m=\u001b[39m \u001b[39m0.7\u001b[39m\n\u001b[1;32m----> 5\u001b[0m \u001b[39mround\u001b[39m(binom\u001b[39m.\u001b[39mpmf(k, n, p_falha), \u001b[39m4\u001b[39m)\n",
            "\u001b[1;31mNameError\u001b[0m: name 'binom' is not defined"
          ]
        }
      ],
      "source": [
        "k = 2\n",
        "n = 9\n",
        "p = 0.7\n",
        "\n",
        "round(binom.pmf(k, n, p_falha), 4)"
      ]
    },
    {
      "cell_type": "markdown",
      "metadata": {
        "id": "XpIJ-UNx7el1"
      },
      "source": [
        "### 3.ii. Faturamento de empresa de consultoria\n",
        "\n",
        "Estudos meteorológicos indicam que a precipitação pluviométrica mensal, em\n",
        "períodos de seca numa certa região, pode ser considerada seguindo uma\n",
        "distribuição Normal de média 30 mm e variância 16 mm2.\n",
        "\n",
        "(a) Qual seria o valor da precipitação pluviométrica de modo que exista apenas\n",
        "10% de probabilidade de haver uma precipitação inferior a esse valor?\n",
        "\n",
        "(b) Construa um intervalo central em torno da média que contenha 80% dos\n",
        "possíveis valores de precipitação pluviométrica.\n",
        "\n",
        "(c) Admitindo esse modelo correto para os próximos 50 meses, em quantos"
      ]
    },
    {
      "cell_type": "markdown",
      "metadata": {},
      "source": [
        "$\\sigma^2 = 16mm^2$\n",
        "\n",
        "$\\mu = 30mm$\n",
        "\n",
        "#### a)"
      ]
    },
    {
      "cell_type": "code",
      "execution_count": 20,
      "metadata": {},
      "outputs": [
        {
          "name": "stdout",
          "output_type": "stream",
          "text": [
            "Resposta: \n",
            " 24.9 mm\n"
          ]
        }
      ],
      "source": [
        "# Inputa a probabilidade e ele mostra o Z\n",
        "z = st.norm.ppf(0.1)\n",
        "\n",
        "sigma = 16**(1/2)\n",
        "\n",
        "mu = 30\n",
        "\n",
        "x = z * sigma + mu\n",
        "\n",
        "print(f'Resposta: \\n {round(x, 1)} mm')"
      ]
    },
    {
      "cell_type": "markdown",
      "metadata": {},
      "source": [
        "##### b)"
      ]
    },
    {
      "cell_type": "code",
      "execution_count": 21,
      "metadata": {},
      "outputs": [
        {
          "name": "stdout",
          "output_type": "stream",
          "text": [
            "O intervalo pedido está entra 29.5 mm a 30.5 mm\n"
          ]
        }
      ],
      "source": [
        "alpha = (1 - 0.8) / 2\n",
        "\n",
        "x_min, x_max = st.norm.interval(alpha, loc=mu, scale=sigma)\n",
        "\n",
        "# z_min = calculo_de_z(x=x_min, mu=mu, sigma=sigma)\n",
        "# z_max = calculo_de_z(x=x_max, mu=mu, sigma=sigma)\n",
        "\n",
        "# resposta = st.norm.cdf(z_max) - st.norm.cdf(z_min)\n",
        "\n",
        "# print(f'Resposta: \\n {round(resposta, 3)}')\n",
        "print(f'O intervalo pedido está entra {round(x_min, 2)} mm a {round(x_max, 2)} mm')"
      ]
    },
    {
      "cell_type": "code",
      "execution_count": 22,
      "metadata": {},
      "outputs": [
        {
          "name": "stdout",
          "output_type": "stream",
          "text": [
            "1.6448536269514722\n",
            "0.9494974165258963\n"
          ]
        }
      ],
      "source": [
        "# Inputa a probabilidade e ele mostra o Z\n",
        "print(st.norm.ppf(0.95))\n",
        "\n",
        "# Inputa o Z e ele retorna a prob ate o valor\n",
        "print(st.norm.cdf(1.64))"
      ]
    },
    {
      "cell_type": "code",
      "execution_count": 23,
      "metadata": {},
      "outputs": [
        {
          "name": "stdout",
          "output_type": "stream",
          "text": [
            "std: 4.0\n",
            "----------\n",
            ">>> Qual seria o valor da precipitação pluviométrica de modo que exista apenas\n",
            "10% de probabilidade de haver uma precipitação inferior a esse valor?\n",
            " 24.8737937378216\n",
            "Construa um intervalo central em torno da média que contenha 80% dos\n",
            "possíveis valores de precipitação pluviométrica.\n",
            "Valor: 0.8416212335729143\n",
            "Z: -1.2815515655446004\n",
            "Probabilidade: 0.4772\n",
            "----------\n"
          ]
        }
      ],
      "source": [
        "mean = 30\n",
        "var = 16\n",
        "std = math.sqrt(var)\n",
        "print('std:', std)\n",
        "print('----------')\n",
        "\n",
        "# Inputa a probabilidade e ele mostra o Z\n",
        "z = st.norm.ppf(0.1)\n",
        "\n",
        "res = z * std + 30\n",
        "print(\"\"\">>> Qual seria o valor da precipitação pluviométrica de modo que exista apenas\n",
        "10% de probabilidade de haver uma precipitação inferior a esse valor?\\n\"\"\", res)\n",
        "\n",
        "##########\n",
        "print(\"\"\"Construa um intervalo central em torno da média que contenha 80% dos\n",
        "possíveis valores de precipitação pluviométrica.\"\"\")\n",
        "\n",
        "# Inputa a probabilidade e ele mostra o Z\n",
        "valor = st.norm.ppf(0.8)\n",
        "\n",
        "print('Valor:', valor)\n",
        "print('Z:',  z)\n",
        "\n",
        "prob = 0.4772\n",
        "print('Probabilidade:', prob)\n",
        "\n",
        "print('----------')"
      ]
    },
    {
      "cell_type": "markdown",
      "metadata": {},
      "source": [
        "### Exercícios extras"
      ]
    },
    {
      "cell_type": "markdown",
      "metadata": {},
      "source": [
        "#### 1)\n",
        "\n",
        "Os salários mensais dos executivos de uma determinada indústria são distribuídos normalmente em trono da média de $R\\$10.000,00$ com desvio padrão de $R\\$800,00$. Calcule a probabilidade de um executivo ter um salário mensal entre $R\\$9.800,00$ e $R\\$10.400,00$"
      ]
    },
    {
      "cell_type": "code",
      "execution_count": 24,
      "metadata": {},
      "outputs": [
        {
          "name": "stdout",
          "output_type": "stream",
          "text": [
            "A probabilidade de um executivo ganhar entre R$9800 e R$10400 é de 29.017%\n"
          ]
        }
      ],
      "source": [
        "x_max = 10400\n",
        "x_min = 9800\n",
        "sigma = 800\n",
        "mu = 10000\n",
        "\n",
        "z_max = calculo_de_z(x=x_max, sigma=sigma, mu=mu)\n",
        "z_min = calculo_de_z(x=x_min, sigma=sigma, mu=mu)\n",
        "\n",
        "resposta = st.norm.cdf(z_max) - st.norm.cdf(z_min)\n",
        "# Inputa a probabilidade e ele mostra o Z\n",
        "print(f'A probabilidade de um executivo ganhar entre R${x_min} e R${x_max} é de {100 * round(resposta, 5)}%')"
      ]
    },
    {
      "cell_type": "markdown",
      "metadata": {},
      "source": [
        "#### 2)\n",
        "\n",
        "Um teste padronizado de escolaridade tem distribuição normal com média 100 e desvio padrão 10. Determine a probabilidade de um indivíduo submetido ao teste ter nota:\n",
        "\n",
        "a) maior que 120\n",
        "\n",
        "b) maior que 80\n",
        "\n",
        "c) entre 85 e 115\n",
        "\n",
        "d) maior que 100"
      ]
    },
    {
      "cell_type": "markdown",
      "metadata": {},
      "source": [
        "#### Respostas\n",
        "\n",
        "#### a) $X > 120$"
      ]
    },
    {
      "cell_type": "code",
      "execution_count": 25,
      "metadata": {},
      "outputs": [
        {
          "name": "stdout",
          "output_type": "stream",
          "text": [
            "A probabilidade de um indivíduo submetido ao teste ter nota maior que 120 é de 2.275%\n"
          ]
        }
      ],
      "source": [
        "x = 120\n",
        "sigma = 10\n",
        "mu = 100\n",
        "\n",
        "z = calculo_de_z(x=x, sigma=sigma, mu=mu)\n",
        "\n",
        "resposta = st.norm.sf(z)\n",
        "# Inputa a probabilidade e ele mostra o Z\n",
        "print(f'A probabilidade de um indivíduo submetido ao teste ter nota maior que {x} é de {100 * round(resposta, 5)}%')"
      ]
    },
    {
      "cell_type": "markdown",
      "metadata": {},
      "source": [
        "#### b)\n",
        "\n",
        "$X > 80$"
      ]
    },
    {
      "cell_type": "code",
      "execution_count": 26,
      "metadata": {},
      "outputs": [
        {
          "name": "stdout",
          "output_type": "stream",
          "text": [
            "A probabilidade de um indivíduo submetido ao teste ter nota maior que 80 é de 97.725%\n"
          ]
        }
      ],
      "source": [
        "x = 80\n",
        "sigma = 10\n",
        "mu = 100\n",
        "\n",
        "z = calculo_de_z(x=x, sigma=sigma, mu=mu)\n",
        "\n",
        "resposta = st.norm.sf(z)\n",
        "# Inputa a probabilidade e ele mostra o Z\n",
        "print(f'A probabilidade de um indivíduo submetido ao teste ter nota maior que {x} é de {100 * round(resposta, 5)}%')"
      ]
    },
    {
      "cell_type": "markdown",
      "metadata": {},
      "source": [
        "#### c)\n",
        "\n",
        "$85 > X > 115$"
      ]
    },
    {
      "cell_type": "code",
      "execution_count": 27,
      "metadata": {},
      "outputs": [
        {
          "name": "stdout",
          "output_type": "stream",
          "text": [
            "A probabilidade de um indivíduo submetido ao teste ter nota maior entre 85 e 115 é de 86.639%\n"
          ]
        }
      ],
      "source": [
        "x_max = 115\n",
        "x_min = 85\n",
        "sigma = 10\n",
        "mu = 100\n",
        "\n",
        "z_max = calculo_de_z(x=x_max, sigma=sigma, mu=mu)\n",
        "z_min = calculo_de_z(x=x_min, sigma=sigma, mu=mu)\n",
        "\n",
        "resposta = st.norm.cdf(z_max) - st.norm.cdf(z_min)\n",
        "# Inputa a probabilidade e ele mostra o Z\n",
        "print(f'A probabilidade de um indivíduo submetido ao teste ter nota maior entre {x_min} e {x_max} é de {100 * round(resposta, 5)}%')"
      ]
    },
    {
      "cell_type": "markdown",
      "metadata": {},
      "source": [
        "#### d)\n",
        "\n",
        "$X > 100$"
      ]
    },
    {
      "cell_type": "code",
      "execution_count": 28,
      "metadata": {},
      "outputs": [
        {
          "name": "stdout",
          "output_type": "stream",
          "text": [
            "A probabilidade de um indivíduo submetido ao teste ter nota maior que 100 é de 50.0%\n"
          ]
        }
      ],
      "source": [
        "x = 100\n",
        "sigma = 10\n",
        "mu = 100\n",
        "\n",
        "z = calculo_de_z(x=x, sigma=sigma, mu=mu)\n",
        "\n",
        "resposta = st.norm.sf(z)\n",
        "# Inputa a probabilidade e ele mostra o Z\n",
        "print(f'A probabilidade de um indivíduo submetido ao teste ter nota maior que {x} é de {100 * round(resposta, 5)}%')"
      ]
    },
    {
      "cell_type": "markdown",
      "metadata": {},
      "source": [
        "#### 2)\n",
        "\n",
        "Se numa prova, em que cada questão tem 4 opções de resposta, um candidadto escolhe ao acaso uma única resposta para cada uma das 4 primeiras questões, então a probabilidade de ele acertar exatamente duas questões será igual a...?"
      ]
    },
    {
      "cell_type": "code",
      "execution_count": 29,
      "metadata": {},
      "outputs": [
        {
          "name": "stdout",
          "output_type": "stream",
          "text": [
            "A probabilidade do candidato acertar exatamente 2 questões é de 21.09%\n"
          ]
        }
      ],
      "source": [
        "k = 2\n",
        "n = 4\n",
        "p = 1/4\n",
        "\n",
        "print(f'A probabilidade do candidato acertar exatamente {k} questões é de {round(100 * st.binom.pmf(k=k, n=n, p=p), 2)}%')"
      ]
    },
    {
      "cell_type": "markdown",
      "metadata": {},
      "source": [
        "#### 3)\n",
        "\n",
        "Um atirador que acerta num alvo com probabilidade de 80%. Em 5 tiros, quel é a probabilidade de ele acertar 2?"
      ]
    },
    {
      "cell_type": "code",
      "execution_count": 30,
      "metadata": {},
      "outputs": [
        {
          "name": "stdout",
          "output_type": "stream",
          "text": [
            "A probabilidade do atirador acertar 2 vezes o alvo é de 5.12%\n",
            "O valor esperado é de 4.0\n",
            "A variância é de 0.8\n"
          ]
        }
      ],
      "source": [
        "k = 2\n",
        "n = 5\n",
        "p = 0.8\n",
        "\n",
        "print(f'A probabilidade do atirador acertar {k} vezes o alvo é de {round(100 * st.binom.pmf(k=k, n=n, p=p), 2)}%')\n",
        "\n",
        "print(f'O valor esperado é de {round(n*p, 2)}')\n",
        "\n",
        "print(f'A variância é de {round(n*p*(1-p), 2)}')"
      ]
    },
    {
      "cell_type": "code",
      "execution_count": null,
      "metadata": {},
      "outputs": [],
      "source": []
    }
  ],
  "metadata": {
    "colab": {
      "collapsed_sections": [],
      "name": "Cópia de Lista Inferência_Estatística.ipynb",
      "provenance": []
    },
    "kernelspec": {
      "display_name": "Python 3",
      "name": "python3"
    },
    "language_info": {
      "codemirror_mode": {
        "name": "ipython",
        "version": 3
      },
      "file_extension": ".py",
      "mimetype": "text/x-python",
      "name": "python",
      "nbconvert_exporter": "python",
      "pygments_lexer": "ipython3",
      "version": "3.9.10"
    }
  },
  "nbformat": 4,
  "nbformat_minor": 0
}
