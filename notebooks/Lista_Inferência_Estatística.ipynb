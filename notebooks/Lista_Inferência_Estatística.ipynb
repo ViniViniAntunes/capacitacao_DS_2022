{
  "nbformat": 4,
  "nbformat_minor": 0,
  "metadata": {
    "colab": {
      "name": "Cópia de Lista Inferência_Estatística.ipynb",
      "provenance": [],
      "collapsed_sections": []
    },
    "kernelspec": {
      "name": "python3",
      "display_name": "Python 3"
    }
  },
  "cells": [
    {
      "cell_type": "markdown",
      "metadata": {
        "id": "qooiO2bTa-XG"
      },
      "source": [
        "# Inferência Estatística\n",
        "\n",
        "\n",
        "## Onde utilizaremos estes conceitos de inferência estatística?\n",
        "\n",
        "1. Estimação de parâmetros populacionais por meio de **INTERVALO DE CONFIANÇA**.\n",
        "2. **TESTE DE HIPÓTESES** para tomada de decisão.\n",
        "\n",
        "## TLC - Teorema do Limite Central\n",
        "\n",
        "![TLC](https://wikimedia.org/api/rest_v1/media/math/render/svg/87f2567b4584549cd05e656135743966de214ce9)\n",
        "\n",
        "\n",
        "Para n grande (n > 30), proveniente de uma amostra aleatória simples, o TLC nos permite concluir que a\n",
        "distribuição amostral de *x_barra* pode ser aproximada por uma distribuição normal.\n",
        "\n",
        "Para n pequeno (n < 30) a distribuição amostral de *x_barra* pode ser considerada normal somente se a\n",
        "população tiver distribuição normal.\n",
        "\n",
        "## Tipos de Distribuições\n",
        "\n",
        "1. **Uniforme** \n",
        "  - Todos tem a mesma probabilidade de ocorrência;\n",
        "2. **Bernoulli**\n",
        "  - Aquela que o resultado da sua variável pode assumir apenas dois valores;\n",
        "  - Em que, **p** é a **probabilidade do evento de interesse** ocorrer, e **1-p** é a **probabilidade do evento complementar**.\n",
        "  - Ex. Lançamento de uma moeda, sexo do individuo;\n",
        "\n",
        "\n",
        "## Links e Referências\n",
        "\n",
        "- [Material UFSC - Distribuição Amostral](https://www.inf.ufsc.br/~andre.zibetti/probabilidade/distribuicao_amostral.html#:~:text=A%20distribui%C3%A7%C3%A3o%20das%20m%C3%A9dias%20amostrais,tamanho%20n%20de%20vari%C3%A1vel%20aleat%C3%B3ria.&text=Seja%20%C2%AFX%20uma%20vari%C3%A1vel,%2C%CF%832%2Fn)\n",
        "- [w3schools: Binomial Distribution](https://www.w3schools.com/python/numpy_random_binomial.asp)\n",
        "- [scipy.stats.binom](https://docs.scipy.org/doc/scipy/reference/generated/scipy.stats.binom.html)\n"
      ]
    },
    {
      "cell_type": "markdown",
      "metadata": {
        "id": "Xgv_Yx6NhudY"
      },
      "source": [
        "## Imports"
      ]
    },
    {
      "cell_type": "code",
      "metadata": {
        "id": "m1wOxInChxfX"
      },
      "source": [
        "import math\n",
        "from numpy import random\n",
        "import matplotlib.pyplot as plt\n",
        "import seaborn as sns\n",
        "\n",
        "from scipy.stats import binom"
      ],
      "execution_count": 1,
      "outputs": []
    },
    {
      "cell_type": "markdown",
      "metadata": {
        "id": "E_Be9Gu-krA7"
      },
      "source": [
        "## Distribuição Binomial\n",
        "\n",
        "Trata se de uma distribuição discreta.\n",
        "\n",
        "Descreve o resultado de um cenário binário.\n",
        "\n",
        "It has three parameters:\n",
        "\n",
        "n - Número de tentativas.\n",
        "\n",
        "p - Probabilidade de ocorrência de um evento.\n",
        "\n",
        "size - The shape of the returned array.\n",
        "\n",
        "### Propriedades da Binomial\n",
        "\n",
        "1. O experimento consiste em uma sequência de n tentativas idênticas.\n",
        "2. Dois resultados, sucesso e falha, são possíveis em cada tentativa, ou seja, cada tentativa é uma\n",
        "Bernoulli.\n",
        "3. A probabilidade de sucesso, denotada por p, não muda de tentativa para tentativa.\n",
        "4. As tentativas são independentes entre si.\n",
        "\n"
      ]
    },
    {
      "cell_type": "markdown",
      "metadata": {
        "id": "uGJ35gC4kwwC"
      },
      "source": [
        "### Exemplo\n",
        "Com 10 tentativas para um lançe de uma moeda gerar 10 pontos;"
      ]
    },
    {
      "cell_type": "code",
      "metadata": {
        "id": "9O7uV0hnkzdr",
        "cellView": "form",
        "outputId": "1634947b-5ad6-4e2f-aa30-1555a70a4254",
        "colab": {
          "base_uri": "https://localhost:8080/",
          "height": 411
        }
      },
      "source": [
        "probabilidade = 0.7 #@param {type:\"slider\", min:0, max:1, step:0.05}\n",
        "amostra = 10 #@param {type:\"number\"}\n",
        "tentativas = 100 #@param {type:\"number\"}\n",
        "\n",
        "distribuicao = random.binomial(n=amostra, p=probabilidade, size=tentativas)\n",
        "\n",
        "print('Distribuição: \\n',distribuicao, '\\n')\n",
        "\n",
        "# Plot\n",
        "sns.distplot(distribuicao, hist=True, kde=False)\n",
        "plt.show()"
      ],
      "execution_count": 2,
      "outputs": [
        {
          "output_type": "stream",
          "name": "stdout",
          "text": [
            "Distribuição: \n",
            " [4 5 7 4 3 4 8 6 4 6 6 4 7 5 4 6 6 5 6 5 4 7 3 5 6 4 5 7 4 3 3 4 4 6 6 5 5\n",
            " 5 5 6 4 7 4 3 2 5 7 6 4 5 6 5 5 5 5 3 7 7 7 5 5 8 4 5 7 8 5 4 2 6 8 3 3 8\n",
            " 5 7 6 5 6 5 2 7 4 4 6 6 5 5 5 5 6 4 4 5 7 6 6 5 7 4] \n",
            "\n"
          ]
        },
        {
          "output_type": "stream",
          "name": "stderr",
          "text": [
            "/usr/local/lib/python3.7/dist-packages/seaborn/distributions.py:2619: FutureWarning: `distplot` is a deprecated function and will be removed in a future version. Please adapt your code to use either `displot` (a figure-level function with similar flexibility) or `histplot` (an axes-level function for histograms).\n",
            "  warnings.warn(msg, FutureWarning)\n"
          ]
        },
        {
          "output_type": "display_data",
          "data": {
            "image/png": "[encoded data removed]",
            "text/plain": [
              "<Figure size 432x288 with 1 Axes>"
            ]
          },
          "metadata": {
            "needs_background": "light"
          }
        }
      ]
    },
    {
      "cell_type": "markdown",
      "metadata": {
        "id": "HHIKc-pejdub"
      },
      "source": [
        "### Exercícios Distribuição Binomial"
      ]
    },
    {
      "cell_type": "markdown",
      "metadata": {
        "id": "uNvi_fxqqPzA"
      },
      "source": [
        "#### Exercíco 1\n",
        "\n",
        "Uma empresa está preocupada com a taxa de retenção de seus funcionários. No último ano, o RH da empresa observou uma **taxa de demissão voluntária de 10%.**\n",
        "\n",
        "Assim, para qualquer funcionário escolhido aleatoriamente, o RH estima uma **probabilidade de 0,1 que a pessoa não estará na empresa no próximo ano**.\n",
        "\n",
        "**Escolhendo 3 funcionários** da empresa ao acaso, qual é a **probabilidade de 1 deles deixar a companhia** no próximo ano?\n",
        "\n",
        "**Resposta:** "
      ]
    },
    {
      "cell_type": "code",
      "metadata": {
        "id": "zNuAyvuRj21F"
      },
      "source": [
        "# binom.pmf(x, n, p)"
      ],
      "execution_count": null,
      "outputs": []
    },
    {
      "cell_type": "markdown",
      "metadata": {
        "id": "3-j7S2vSsm4S"
      },
      "source": [
        "#### Exercíco 2\n",
        "\n",
        "Um administrador de um hospital baseado em sua experiência, sabe que **5% de todas os grávidas** admitidas num pronto socorro (PS) devem ser colocadas para ter **acompanhamento da equipe médica especializada** em complicações de parto.\n",
        "\n",
        "Use este dado para estimar a probabilidade de que em **120 gestantes novas** admitidas em um dia no PS, **3 precisem da equipe média especializada**.\n",
        "\n",
        "**Resposta:**\n"
      ]
    },
    {
      "cell_type": "code",
      "metadata": {
        "id": "DdO61yFJukKX"
      },
      "source": [
        ""
      ],
      "execution_count": null,
      "outputs": []
    },
    {
      "cell_type": "markdown",
      "metadata": {
        "id": "PI0Oz482vbDt"
      },
      "source": [
        "#### Exercíco 3\n",
        "\n",
        "Em uma pesquisa sobre o uso de cartão de crédito, foi identificado que\n",
        "9% dos estudantes universitários possuem limite de cartão de crédito\n",
        "acima de R$5.000. Suponha que 10 estudantes universitários sejam\n",
        "escolhidos aleatoriamente para uma entrevista em relação ao uso do\n",
        "cartão de crédito.\n",
        "\n",
        "(a) Qual a variável aleatória?\n",
        "\n",
        "(b) Qual a distribuição de probabilidade é adequada para modelar este\n",
        "problema?\n",
        "\n",
        "(c) Qual a probabilidade de nenhum estudante ter limite de crédito\n",
        "superior a R$5.000?\n",
        "\n",
        "(d) Qual a probabilidade de pelo menos três estudantes terem limites de\n",
        "crédito maiores do que R$5.000?\n",
        "\n",
        "**Respostas**\n",
        "\t\n"
      ]
    },
    {
      "cell_type": "code",
      "metadata": {
        "id": "FaHfnQAvwH6V"
      },
      "source": [
        ""
      ],
      "execution_count": null,
      "outputs": []
    },
    {
      "cell_type": "markdown",
      "metadata": {
        "id": "h-_Ds1sMx5Da"
      },
      "source": [
        "## Distribuição Normal Padrão\n",
        "\n",
        "A Distribuição Normal é a distribuição mais importante da Estatística.\n",
        "\n",
        "Também é denominada Distribuição de Gauss ou Distribuição Gaussiana, em homenagem a Carl Firedrich Gauss, que assumiu que erros de medida poderiam ser modelados pela Distribuição Normal.\n",
        "\n",
        "![Normal Dist](https://wikimedia.org/api/rest_v1/media/math/render/svg/00cb9b2c9b866378626bcfa45c86a6de2f2b2e40)\n",
        "\n",
        "<img src=\"https://upload.wikimedia.org/wikipedia/commons/thumb/7/74/Normal_Distribution_PDF.svg/720px-Normal_Distribution_PDF.svg.png\" width=\"500\">\n",
        "\n",
        "<img src=\"https://upload.wikimedia.org/wikipedia/commons/thumb/c/ca/Normal_Distribution_CDF.svg/720px-Normal_Distribution_CDF.svg.png\" width=\"500\">"
      ]
    },
    {
      "cell_type": "code",
      "metadata": {
        "id": "d5qA2OhF0nvR",
        "outputId": "e6adebd0-31f7-4936-d12d-add2dd3d6acc",
        "colab": {
          "base_uri": "https://localhost:8080/",
          "height": 50
        }
      },
      "source": [
        "import scipy.stats as st\n",
        "\n",
        "# Inputa a probabilidade e ele mostra o Z\n",
        "print(st.norm.ppf(0.95))\n",
        "\n",
        "# Inputa o Z e ele retorna a prob ate o valor\n",
        "print(st.norm.cdf(1.64))"
      ],
      "execution_count": null,
      "outputs": [
        {
          "output_type": "stream",
          "text": [
            "1.6448536269514722\n",
            "0.9494974165258963\n"
          ],
          "name": "stdout"
        }
      ]
    },
    {
      "cell_type": "markdown",
      "metadata": {
        "id": "JWlzKld_zUJn"
      },
      "source": [
        "### Exercícios"
      ]
    },
    {
      "cell_type": "markdown",
      "metadata": {
        "id": "huUVKjJhgyz5"
      },
      "source": [
        "#### Exercício: Faturamento de empresa de consultoria\n",
        "\n",
        "Uma empresa de consultoria possui um **faturamento mensal médio de 40\n",
        "milhões de reais** com **variância de 100 milhões de reais**. Assumindo que o\n",
        "faturamento desta empresa segue uma distribuição normal, qual a\n",
        "probabilidade de que em um determinado mês o faturamento:\n",
        "\n",
        "(a) seja superior a 50 milhões de reais ?\n",
        "\n",
        "(b) esteja entre 30 e 50 milhões de reais?\n",
        "\n",
        "(c) seja inferior a 30 milhões de reais?"
      ]
    },
    {
      "cell_type": "code",
      "metadata": {
        "id": "0QCBsnJza-A0"
      },
      "source": [
        ""
      ],
      "execution_count": null,
      "outputs": []
    },
    {
      "cell_type": "markdown",
      "metadata": {
        "id": "tcKxU2PAiAuz"
      },
      "source": [
        "#### Exercício: Vistoria\n",
        "\n",
        "Uma seguradora possui um gasto com vistoria de automóvel médio de 20 reais\n",
        "com um desvio padrão de 5 reais. Calcule as probabilidades de que, em uma\n",
        "determinada vistoria, o gasto seja:\n",
        "\n",
        "(a) superior a 30 reais.\n",
        "\n",
        "(b) inferior a 18 reais.\n",
        "\n",
        "(c) entre 15 e 28 reais."
      ]
    },
    {
      "cell_type": "code",
      "metadata": {
        "id": "Y3kFaDc2iByz"
      },
      "source": [
        ""
      ],
      "execution_count": null,
      "outputs": []
    },
    {
      "cell_type": "markdown",
      "metadata": {
        "id": "OqzcYZBp6zvX"
      },
      "source": [
        "#### 3.i. Funcionamento do sistema\n",
        "\n",
        "No sistema abaixo, cada componente tem probabilidade 0,7 de funcionar. Se uma das componentes falhar, o sistema não funciona. Suponha independência de funcionamento das componentes, qual a probabilidade de:\n",
        "\n",
        "c1 > c2 > (...) > c9\n",
        "\n",
        "(a) O sistema funcionar?\n",
        "\n",
        "(b) O sistema não funcionar?\n",
        "\n",
        "(c) Exatamente 2 componentes funcionarem?"
      ]
    },
    {
      "cell_type": "code",
      "metadata": {
        "id": "eHgfCpfu6076"
      },
      "source": [
        ""
      ],
      "execution_count": null,
      "outputs": []
    },
    {
      "cell_type": "markdown",
      "metadata": {
        "id": "XpIJ-UNx7el1"
      },
      "source": [
        "### 3.ii. Faturamento de empresa de consultoria\n",
        "\n",
        "Estudos meteorológicos indicam que a precipitação pluviométrica mensal, em\n",
        "períodos de seca numa certa região, pode ser considerada seguindo uma\n",
        "distribuição Normal de média 30 mm e variância 16 mm2.\n",
        "\n",
        "(a) Qual seria o valor da precipitação pluviométrica de modo que exista apenas\n",
        "10% de probabilidade de haver uma precipitação inferior a esse valor?\n",
        "\n",
        "(b) Construa um intervalo central em torno da média que contenha 80% dos\n",
        "possíveis valores de precipitação pluviométrica.\n",
        "\n",
        "(c) Admitindo esse modelo correto para os próximos 50 meses, em quantos"
      ]
    },
    {
      "cell_type": "code",
      "metadata": {
        "id": "rvHa4o2U7g2C"
      },
      "source": [
        ""
      ],
      "execution_count": null,
      "outputs": []
    }
  ]
}