{
 "cells": [
  {
   "cell_type": "markdown",
   "metadata": {
    "id": "PkVLTYkXHJTy"
   },
   "source": [
    "# Teste de Hipótese \n"
   ]
  },
  {
   "cell_type": "markdown",
   "metadata": {
    "id": "J-LS2XMI3Y_f"
   },
   "source": [
    "## Imports"
   ]
  },
  {
   "cell_type": "code",
   "execution_count": 1,
   "metadata": {
    "id": "veDgs-QsHKD_"
   },
   "outputs": [],
   "source": [
    "import numpy as np\n",
    "import scipy.stats as st"
   ]
  },
  {
   "cell_type": "markdown",
   "metadata": {
    "id": "pScJtksxlBNR"
   },
   "source": [
    "## Funções"
   ]
  },
  {
   "cell_type": "code",
   "execution_count": 28,
   "metadata": {
    "id": "ooT_CifZlC4-"
   },
   "outputs": [],
   "source": [
    "######################################\n",
    "def calculo_z(x_barra, u, std, n):\n",
    "    return (x_barra - u) / (std / (n**0.5))\n",
    "\n",
    "######################################\n",
    "def calculo_t(x_barra, u, s, n):\n",
    "    return (x_barra - u) /( s / (n**0.5))\n",
    "\n",
    "######################################\n",
    "def margem_de_erro(z_value, std, n):\n",
    "\n",
    "    margem_erro = z_value * (std / (n ** 0.5))\n",
    "\n",
    "    return margem_erro\n",
    "\n",
    "######################################\n",
    "def margem_de_erro_t(t, std_amostral, n):\n",
    "    \"\"\" \n",
    "    Trata-se da mesma fórmula de margem de erro, mas com notações diferentes.\n",
    "    \"\"\"\n",
    "\n",
    "    margem_erro = t * (std_amostral / (n ** 0.5))\n",
    "\n",
    "    return margem_erro\n",
    "\n",
    "######################################\n",
    "def intervalo_confianca(x, margem_de_erro):\n",
    "    return round(x - margem_de_erro, 2), round(x + margem_de_erro, 2)\n",
    "\n",
    "######################################\n",
    "def func_teste_de_hipoteses(n, u, x, std, confianca, tipo_hipotese, teste):\n",
    "    \"\"\"\n",
    "    tipo_hipotese => ['bilateral', '>', '<']\n",
    "    teste => 't ou 'z'\n",
    "    \"\"\"\n",
    "\n",
    "    if teste == 't':\n",
    "        s = std\n",
    "\n",
    "    # Defina H0 e H1\n",
    "    H0 = 'H0: u = ' + str(u)\n",
    "    if tipo_hipotese == 'bilateral':\n",
    "        H1 = 'H1: u != '+ str(u)\n",
    "    else:\n",
    "        H1 = f'H1: u {tipo_hipotese} '+ str(u)\n",
    "\n",
    "    print('Definindo Hipoteses:')\n",
    "    print(H0)\n",
    "    print(H1)\n",
    "\n",
    "    if tipo_hipotese == 'bilateral':\n",
    "        alpha = 1 - confianca\n",
    "        alpha = alpha / 2\n",
    "        confianca = 1 - alpha\n",
    "    else:\n",
    "        alpha = 1 - confianca\n",
    "    print(f'Confiança: {confianca}')\n",
    "    print(f'Alpha: {alpha}')\n",
    "\n",
    "\n",
    "    # Encontrando estatística do teste\n",
    "    if teste == 't':\n",
    "        t = calculo_t(x, u, s, n)\n",
    "        print(f'\\nValor de t de teste: {round(t, 2)}')\n",
    "    else:\n",
    "        z = calculo_z(x, u, std, n)\n",
    "        print(f'\\nValor de Z de teste: {round(z, 2)}')\n",
    "\n",
    "\n",
    "    print('_____________')\n",
    "\n",
    "    ##############################\n",
    "    ## Decisão pela região crítica\n",
    "    ##############################\n",
    "\n",
    "    print('\\n>>> Decisão pela região crítica\\n')\n",
    "\n",
    "    if teste == 't':\n",
    "        graus_de_liberdade = n - 1\n",
    "        t0 = st.t.ppf(confianca, graus_de_liberdade)\n",
    "        print('T0 com confiança de', round(confianca, 2),'->', round(t0, 2))\n",
    "    else:\n",
    "        # Inputa a probabilidade e ele mostra o Z\n",
    "        z0 = st.norm.ppf(confianca)\n",
    "        print('Z0 com confiança de', round(confianca, 2),'->', round(z0, 2))\n",
    "\n",
    "    # if tipo_hipotese == 'bilateral':\n",
    "    #   if teste == 't':\n",
    "    #     if t0 > abs(t):\n",
    "    #       print(f't0={t0}\\nt={t}\\nCaiu na região crítica')\n",
    "    #     else:\n",
    "    #       print(f't0={t0}\\nt={t}\\nNão caiu na região crítica')\n",
    "    #   else:\n",
    "    #     if abs(z0) > abs(z):\n",
    "    #       print(f'z0={z0}\\nz={z}\\nCaiu na região crítica')\n",
    "    #     else:\n",
    "    #       print(f'z0={z0}\\nz={z}\\nNão caiu na região crítica')\n",
    "\n",
    "    # elif tipo_hipotese == '>':\n",
    "    #   if teste == 't':\n",
    "    #     if t0 > t:\n",
    "    #       print(f't0={t0}\\nt={t}\\nCaiu na região crítica')\n",
    "    #     else:\n",
    "    #       print(f't0={t0}\\nt={t}\\nNão caiu na região crítica')\n",
    "    #   else:\n",
    "    #     if z0 > z:\n",
    "    #       print(f'z0={z0}\\nz={z}\\nCaiu na região crítica')\n",
    "    #     else:\n",
    "    #       print(f'z0={z0}\\nz={z}\\nNão caiu na região crítica')\n",
    "\n",
    "    # elif tipo_hipotese == '<':\n",
    "    #   if teste == 't':\n",
    "    #     if t0 < t:\n",
    "    #       print(f't0={t0}\\nt={t}\\nCaiu na região crítica')\n",
    "    #     else:\n",
    "    #       print(f't0={t0}\\nt={t}\\nNão caiu na região crítica')\n",
    "    #   else:\n",
    "    #     if z0 < z:\n",
    "    #       print(f'z0={z0}\\nz={z}\\nCaiu na região crítica')\n",
    "    #     else:\n",
    "    #       print(f'z0={z0}\\nz={z}\\nNão caiu na região crítica')\n",
    "\n",
    "    print('_____________')\n",
    "\n",
    "\n",
    "    #######################\n",
    "    ## Decisão pelo p-valor\n",
    "    #######################\n",
    "\n",
    "    print('\\n>>> Decisão pelo p-valor\\n')\n",
    "\n",
    "    if teste == 't':\n",
    "        if t > 0:\n",
    "            p_value = st.t.sf(t, graus_de_liberdade)\n",
    "        else:\n",
    "            p_value = st.t.sf(t * (-1), graus_de_liberdade)\n",
    "    else:\n",
    "        if z > 0:\n",
    "            p_value = st.norm.sf(z)\n",
    "        else:\n",
    "            p_value = st.norm.sf(z * (-1))\n",
    "\n",
    "    if tipo_hipotese == 'bilateral':\n",
    "        p_value *= 2\n",
    "        alpha *= 2\n",
    "\n",
    "    print(f'P Valor do Teste: {round(p_value, 2)}')\n",
    "    print(f'Valor Alpha: {round(alpha, 2)}')\n",
    "    print('_____________')\n",
    "\n",
    "    #########################\n",
    "    ## Intervalo de Confiânça\n",
    "    #########################\n",
    "\n",
    "    print('\\n>>> Intervalo de Confiânça\\n')\n",
    "\n",
    "    if teste == 't':\n",
    "        margem = margem_de_erro_t(t0, s, n)\n",
    "    else:\n",
    "        margem = margem_de_erro(z0, std, n)\n",
    "\n",
    "    #Calculando intervalo de confiança\n",
    "    intervalo = intervalo_confianca(x, margem)\n",
    "    print(f'Intervalo de Confiança: {intervalo}')\n",
    "    print('_____________')\n",
    "\n",
    "######################################\n",
    "def func_hipotese_proporcao(p, p_barra, n):\n",
    "    \"\"\"\n",
    "    p é a proporção populacional\n",
    "    p_barra é a proporção amostral\n",
    "    n é o tamanho da amostra\n",
    "    \"\"\"\n",
    "\n",
    "    numerador = (p_barra - p)\n",
    "    denominador = (p*(1-p)) / n\n",
    "\n",
    "    return numerador / (denominador ** 0.5)\n",
    "\n",
    "######################################\n",
    "def func_margem_de_erro_prop(z, p_barra, n):\n",
    "    temp = (p_barra* (1- p_barra)) / n\n",
    "    me = z * (temp ** 0.5)\n",
    "    return me\n",
    "\n",
    "######################################\n",
    "def func_intervalo_confianca_prop(p_barra, me):\n",
    "    return round(p_barra - me, 2), round(p_barra + me, 2)\n",
    "\n",
    "######################################\n",
    "def func_teste_de_hipoteses_prop(p, p_barra, n, confianca, tipo_hipotese):\n",
    "    \"\"\"\n",
    "    tipo_hipotese => ['bilateral', '>', '<']\n",
    "    \"\"\"\n",
    "\n",
    "    # Defina H0 e H1\n",
    "    H0 = 'H0: p = ' + str(p)\n",
    "    if tipo_hipotese == 'bilateral':\n",
    "        H1 = 'H1: p != '+ str(p)\n",
    "    else:\n",
    "        H1 = f'H1: p {tipo_hipotese} '+ str(p)\n",
    "\n",
    "    print('Definindo Hipoteses:')\n",
    "    print(H0)\n",
    "    print(H1)\n",
    "\n",
    "    if tipo_hipotese == 'bilateral':\n",
    "        alpha = 1 - confianca\n",
    "        alpha = alpha / 2\n",
    "        confianca = 1 - alpha\n",
    "    else:\n",
    "        alpha = 1 - confianca\n",
    "    print(f'Confiança: {round(confianca, 2)}')\n",
    "    print(f'Alpha: {round(alpha, 2)}')\n",
    "\n",
    "\n",
    "    # Encontrando estatística do teste\n",
    "    z = func_hipotese_proporcao(p, p_barra, n)\n",
    "    print(f'\\nValor de Z de teste: {round(z, 2)}')\n",
    "    print('_____________')\n",
    "\n",
    "    ##############################\n",
    "    ## Decisão pela região crítica\n",
    "    ##############################\n",
    "\n",
    "    print('\\n>>> Decisão pela região crítica\\n')\n",
    "\n",
    "\n",
    "    # Inputa a probabilidade e ele mostra o Z\n",
    "    z0 = st.norm.ppf(confianca)\n",
    "    print('Z0 com confiança de', round(confianca, 2),'->', round(z0, 2))\n",
    "\n",
    "    print('_____________')\n",
    "\n",
    "    #######################\n",
    "    ## Decisão pelo p-valor\n",
    "    #######################\n",
    "\n",
    "    print('\\n>>> Decisão pelo p-valor\\n')\n",
    "\n",
    "    if z > 0:\n",
    "        p_value = st.norm.sf(z)\n",
    "    else:\n",
    "        p_value = st.norm.sf(z * (-1))\n",
    "\n",
    "    if tipo_hipotese == 'bilateral':\n",
    "        p_value *= 2\n",
    "        alpha *= 2\n",
    "\n",
    "    print(f'P Valor do Teste: {round(p_value, 2)}')\n",
    "    print(f'Valor Alpha: {round(alpha, 2)}')\n",
    "    print('_____________')\n",
    "\n",
    "    #########################\n",
    "    ## Intervalo de Confiânça\n",
    "    #########################\n",
    "\n",
    "    print('\\n>>> Intervalo de Confiânça\\n')\n",
    "\n",
    "    margem = func_margem_de_erro_prop(z0, p_barra, n)\n",
    "\n",
    "    #Calculando intervalo de confiança\n",
    "    intervalo = func_intervalo_confianca_prop(p_barra, margem)\n",
    "    print(f'Intervalo de Confiança: {intervalo}')\n",
    "    print('_____________')"
   ]
  },
  {
   "cell_type": "code",
   "execution_count": 29,
   "metadata": {},
   "outputs": [],
   "source": [
    "# def definicao_pela_regiao_critica(x_0, x, teste, tipo_hipotese):\n",
    "#     if x_0 > x"
   ]
  },
  {
   "cell_type": "markdown",
   "metadata": {
    "id": "UrfVketbDFW6"
   },
   "source": [
    "Tabela T: http://www.epi.uff.br/wp-content/uploads/2015/05/Tabela-T.pdf\n",
    "\n",
    "Tabela Z: https://ptdocz.com/doc/964070/tabela-da-distribui%C3%A7%C3%A3o-normal-padr%C3%A3o-unicaudal-p-0-%E2%89%A4-z0-%E2%89%A4-z-"
   ]
  },
  {
   "cell_type": "markdown",
   "metadata": {
    "id": "SxQueHRBJjy-"
   },
   "source": [
    "## Exercício: Investimento\n",
    "\n",
    "Um gerente de investimentos deseja saber se os valores de investimento para PF do segmento Top Tier é em média R$50.000.\n",
    "\n",
    "Para se testar a hipótese de interesse, retirou-se uma amostra de 100 clientes e obteve-se uma **média de R\\$50.800** com um **desvio padrão de R\\$8.500.**\n",
    "\n",
    "Com **98% de confiança**, qual o valor investido para os clientes Top Tier?\n",
    "\n",
    "Em **média pode-se dizer que os clientes investem R$50.000?**\n",
    "\n",
    "Construa as hipóteses estatísticas e construa a região de aceitação da $H_0$.\n",
    " "
   ]
  },
  {
   "cell_type": "markdown",
   "metadata": {
    "id": "0z2wtYTzRUu2"
   },
   "source": [
    "$H_0 \\Rightarrow \\mu = R\\$ 50.000,00$\n",
    "<br>\n",
    "$H_1 \\Rightarrow \\mu \\neq R\\$ 50.000,00$\n",
    "<br>\n",
    "$n = 100$\n",
    "<br>\n",
    "$\\bar x = R\\$ 50.800,00$\n",
    "<br>\n",
    "$\\sigma =R\\$ 8.500,00$\n",
    "<br>\n",
    "$\\alpha = 98\\% = 0.098$"
   ]
  },
  {
   "cell_type": "code",
   "execution_count": 30,
   "metadata": {},
   "outputs": [],
   "source": [
    "x_barra = 50800\n",
    "u = 50000\n",
    "std = 8500\n",
    "n = 100\n",
    "confianca = 0.98"
   ]
  },
  {
   "cell_type": "code",
   "execution_count": 31,
   "metadata": {
    "id": "oXdlIAsZJTb-"
   },
   "outputs": [
    {
     "name": "stdout",
     "output_type": "stream",
     "text": [
      "Estatística de teste: 0.94\n"
     ]
    }
   ],
   "source": [
    "z_value = calculo_z(x_barra=x_barra, u=u, std=std, n=n)\n",
    "print(f'Estatística de teste: {round(z_value, 2)}')"
   ]
  },
  {
   "cell_type": "code",
   "execution_count": 32,
   "metadata": {},
   "outputs": [
    {
     "name": "stdout",
     "output_type": "stream",
     "text": [
      "Definindo Hipoteses:\n",
      "H0: u = 50000\n",
      "H1: u != 50000\n",
      "Confiança: 0.99\n",
      "Alpha: 0.010000000000000009\n",
      "\n",
      "Valor de Z de teste: 0.94\n",
      "_____________\n",
      "\n",
      ">>> Decisão pela região crítica\n",
      "\n",
      "Z0 com confiança de 0.99 -> 2.33\n",
      "_____________\n",
      "\n",
      ">>> Decisão pelo p-valor\n",
      "\n",
      "P Valor do Teste: 0.35\n",
      "Valor Alpha: 0.02\n",
      "_____________\n",
      "\n",
      ">>> Intervalo de Confiânça\n",
      "\n",
      "Intervalo de Confiança: (48822.6, 52777.4)\n",
      "_____________\n"
     ]
    }
   ],
   "source": [
    "func_teste_de_hipoteses(n=n, u=u, x=x_barra, std=std, confianca=confianca, tipo_hipotese='bilateral', teste='z')"
   ]
  },
  {
   "cell_type": "markdown",
   "metadata": {},
   "source": [
    "## Exercício extra:\n",
    "\n",
    "Um processo deveria produzir bancadas com 0,85m. Um engenheiro desconfia que as bancadas são diferentes do especificado. Uma amostra de 8 valores foi coletada e sua média amostral de 0,87m. Sabendo-se que o desvio padrão é de 0,010, teste a hipótese do engenheiro usando um nível de significância de 0,05."
   ]
  },
  {
   "cell_type": "code",
   "execution_count": 33,
   "metadata": {},
   "outputs": [
    {
     "name": "stdout",
     "output_type": "stream",
     "text": [
      "Definindo Hipoteses:\n",
      "H0: u = 0.85\n",
      "H1: u != 0.85\n",
      "Confiança: 0.975\n",
      "Alpha: 0.025000000000000022\n",
      "\n",
      "Valor de Z de teste: 5.66\n",
      "_____________\n",
      "\n",
      ">>> Decisão pela região crítica\n",
      "\n",
      "Z0 com confiança de 0.97 -> 1.96\n",
      "_____________\n",
      "\n",
      ">>> Decisão pelo p-valor\n",
      "\n",
      "P Valor do Teste: 0.0\n",
      "Valor Alpha: 0.05\n",
      "_____________\n",
      "\n",
      ">>> Intervalo de Confiânça\n",
      "\n",
      "Intervalo de Confiança: (0.86, 0.88)\n",
      "_____________\n"
     ]
    }
   ],
   "source": [
    "x_barra = 0.87\n",
    "u = 0.85\n",
    "std = 0.01\n",
    "n = 8\n",
    "confianca = 0.95\n",
    "\n",
    "func_teste_de_hipoteses(n=n, u=u, x=x_barra, std=std, confianca=confianca, tipo_hipotese='bilateral', teste='z')"
   ]
  },
  {
   "cell_type": "markdown",
   "metadata": {},
   "source": [
    "## Outro exercício extra:\n",
    "\n",
    "Um fabricante afirma que seus suplementos não contém mais do que 30mg de sódio. Uma ammostra de 35 potes possui, em média, 31,4mg de sódio e desvio padrão de 3mg. Sendo  o nível de significância de 5%, os dados refutam ou não a afirmação?"
   ]
  },
  {
   "cell_type": "code",
   "execution_count": 34,
   "metadata": {},
   "outputs": [
    {
     "name": "stdout",
     "output_type": "stream",
     "text": [
      "Definindo Hipoteses:\n",
      "H0: u = 30\n",
      "H1: u > 30\n",
      "Confiança: 0.95\n",
      "Alpha: 0.050000000000000044\n",
      "\n",
      "Valor de t de teste: 1.48\n",
      "_____________\n",
      "\n",
      ">>> Decisão pela região crítica\n",
      "\n",
      "T0 com confiança de 0.95 -> 1.83\n",
      "_____________\n",
      "\n",
      ">>> Decisão pelo p-valor\n",
      "\n",
      "P Valor do Teste: 0.09\n",
      "Valor Alpha: 0.05\n",
      "_____________\n",
      "\n",
      ">>> Intervalo de Confiânça\n",
      "\n",
      "Intervalo de Confiança: (29.66, 33.14)\n",
      "_____________\n"
     ]
    }
   ],
   "source": [
    "x_barra = 31.4\n",
    "u = 30\n",
    "std = 3\n",
    "n = 10\n",
    "confianca = 0.95\n",
    "\n",
    "func_teste_de_hipoteses(n=n, u=u, x=x_barra, std=std, confianca=confianca, tipo_hipotese='>', teste='t')"
   ]
  },
  {
   "cell_type": "markdown",
   "metadata": {},
   "source": [
    "## E mais um extra:\n",
    "\n",
    "A empresa XYZ afirma que a porcentagem de aparelhos defeituosos que ela produz não excede 5%. Uma amostra com 100 aparelhos apresentou 7 com defeitos. Teste a hipótese da empresa usando um nível de significância de 0,01."
   ]
  },
  {
   "cell_type": "code",
   "execution_count": 35,
   "metadata": {},
   "outputs": [
    {
     "name": "stdout",
     "output_type": "stream",
     "text": [
      "Definindo Hipoteses:\n",
      "H0: p = 0.05\n",
      "H1: p > 0.05\n",
      "Confiança: 0.99\n",
      "Alpha: 0.01\n",
      "\n",
      "Valor de Z de teste: 0.92\n",
      "_____________\n",
      "\n",
      ">>> Decisão pela região crítica\n",
      "\n",
      "Z0 com confiança de 0.99 -> 2.33\n",
      "_____________\n",
      "\n",
      ">>> Decisão pelo p-valor\n",
      "\n",
      "P Valor do Teste: 0.18\n",
      "Valor Alpha: 0.01\n",
      "_____________\n",
      "\n",
      ">>> Intervalo de Confiânça\n",
      "\n",
      "Intervalo de Confiança: (0.01, 0.13)\n",
      "_____________\n"
     ]
    }
   ],
   "source": [
    "p_barra = 0.07\n",
    "p = 0.05\n",
    "n = 100\n",
    "confianca = 0.99\n",
    "\n",
    "func_teste_de_hipoteses_prop(p=p, p_barra=p_barra, n=n, confianca=confianca, tipo_hipotese='>')"
   ]
  },
  {
   "cell_type": "markdown",
   "metadata": {
    "id": "ldW1-bVuJ-8q"
   },
   "source": [
    "## Exercício: Reclamações\n",
    "\n",
    "Uma empresa deseja saber se o **número médio mensal de reclamações é 8.500 ou inferior a 8.500.** Sabe-se que o **desvio padrão populacional é de 600 reclamações**.\n",
    "\n",
    "Considere uma **amostra de 350 clientes**.\n",
    "\n",
    "Na **amostra**, obteve-se um **número médio** mensal de reclamações de **8.400**.\n",
    "\n",
    "Com confiança de 95%, há evidências de que o número de reclamações é inferior a 8.500?\n",
    "\n",
    "**Respostas**\n",
    "\n",
    "(a) Construa as hipóteses do teste.\n",
    "\n",
    "(b) Identifique o nível de significância do teste.\n",
    "\n",
    "\n",
    "(c) Calcule o valor da estatística do teste.\n",
    "\n",
    "(d) Realize a tomada de decisão do teste pela regra do p-valor.\n",
    "\n",
    "(e) Realize a tomada de decisão pela regra da região crítica.\n",
    "\n",
    "(f) Realize a tomada de decisão pelo intervalo de confiança.\n",
    "\n",
    "(g) Com confiança de 95%, há evidências de que o número de reclamações é inferior a 8.500?"
   ]
  },
  {
   "cell_type": "markdown",
   "metadata": {},
   "source": [
    "##### a)\n",
    "\n",
    "$H_0: \\mu \\leq 8500$\n",
    "\n",
    "$H_1: \\mu > 8500$\n",
    "\n",
    "##### b)"
   ]
  },
  {
   "cell_type": "code",
   "execution_count": 36,
   "metadata": {
    "id": "2nqCY5STKSpl"
   },
   "outputs": [
    {
     "data": {
      "text/plain": [
       "0.05"
      ]
     },
     "execution_count": 36,
     "metadata": {},
     "output_type": "execute_result"
    }
   ],
   "source": [
    "x_barra = 8400\n",
    "u = 8500\n",
    "std = 600\n",
    "n = 350\n",
    "confianca = 0.95\n",
    "tipo_hipotese = '>'\n",
    "teste = 'z'\n",
    "\n",
    "alpha = 1 - confianca\n",
    "round(alpha, 2)"
   ]
  },
  {
   "cell_type": "markdown",
   "metadata": {},
   "source": [
    "<img src=\"https://github.com/ViniViniAntunes/capacitacao_DS_2022/blob/main/imagens/escolha_da_distribuicao_amostral.png?raw=true\" width=\"700\">\n",
    "\n",
    "##### c)"
   ]
  },
  {
   "cell_type": "code",
   "execution_count": 37,
   "metadata": {},
   "outputs": [
    {
     "data": {
      "text/plain": [
       "-3.12"
      ]
     },
     "execution_count": 37,
     "metadata": {},
     "output_type": "execute_result"
    }
   ],
   "source": [
    "z = (x_barra - u) / (std / n**(1/2))\n",
    "round(z, 2)"
   ]
  },
  {
   "cell_type": "markdown",
   "metadata": {},
   "source": [
    "##### d)"
   ]
  },
  {
   "cell_type": "code",
   "execution_count": 38,
   "metadata": {},
   "outputs": [
    {
     "name": "stdout",
     "output_type": "stream",
     "text": [
      "\n",
      ">>> Decisão pelo p-valor\n",
      "\n",
      "P Valor do Teste: 0.0\n",
      "Valor Alpha: 0.05\n"
     ]
    }
   ],
   "source": [
    "print('\\n>>> Decisão pelo p-valor\\n')\n",
    "\n",
    "if z > 0:\n",
    "    p_value = st.norm.sf(z)\n",
    "else:\n",
    "    p_value = st.norm.sf(z * (-1))\n",
    "\n",
    "if tipo_hipotese == 'bilateral':\n",
    "    p_value *= 2\n",
    "    alpha *= 2\n",
    "\n",
    "print(f'P Valor do Teste: {round(p_value, 2)}')\n",
    "print(f'Valor Alpha: {round(alpha, 2)}')"
   ]
  },
  {
   "cell_type": "markdown",
   "metadata": {},
   "source": [
    "##### e)\n",
    "\n"
   ]
  },
  {
   "cell_type": "code",
   "execution_count": 39,
   "metadata": {},
   "outputs": [
    {
     "name": "stdout",
     "output_type": "stream",
     "text": [
      "\n",
      ">>> Decisão pela região crítica\n",
      "\n",
      "Z0 com confiança de 0.95 -> 1.64\n"
     ]
    }
   ],
   "source": [
    "print('\\n>>> Decisão pela região crítica\\n')\n",
    "\n",
    "if teste == 't':\n",
    "    graus_de_liberdade = n - 1\n",
    "    t0 = st.t.ppf(confianca, graus_de_liberdade)\n",
    "    print('T0 com confiança de', round(confianca, 2),'->', round(t0, 2))\n",
    "    \n",
    "else:\n",
    "    # Inputa a probabilidade e ele mostra o Z\n",
    "    z0 = st.norm.ppf(confianca)\n",
    "    print('Z0 com confiança de', round(confianca, 2),'->', round(z0, 2))\n",
    "    \n",
    "    "
   ]
  },
  {
   "cell_type": "markdown",
   "metadata": {},
   "source": [
    "##### f)"
   ]
  },
  {
   "cell_type": "code",
   "execution_count": 40,
   "metadata": {},
   "outputs": [
    {
     "name": "stdout",
     "output_type": "stream",
     "text": [
      "\n",
      ">>> Intervalo de Confiânça\n",
      "\n",
      "Intervalo de Confiança: (8347.25, 8452.75)\n"
     ]
    }
   ],
   "source": [
    "print('\\n>>> Intervalo de Confiânça\\n')\n",
    "\n",
    "if teste == 't':\n",
    "    s = std\n",
    "    margem = margem_de_erro_t(t0, s, n)\n",
    "else:\n",
    "    margem = margem_de_erro(z0, std, n)\n",
    "\n",
    "#Calculando intervalo de confiança\n",
    "intervalo = intervalo_confianca(x_barra, margem)\n",
    "print(f'Intervalo de Confiança: {intervalo}')"
   ]
  },
  {
   "cell_type": "markdown",
   "metadata": {},
   "source": [
    "##### g)\n",
    "\n",
    "Não há evidência para rejeitarmos a hipótese nula."
   ]
  },
  {
   "cell_type": "markdown",
   "metadata": {
    "id": "EfyFJnM2KUk5"
   },
   "source": [
    "## Exercício: People Analytics\n",
    "\n",
    "Um gerente de RH que deseja testar se a proporção de funcionários insatisfeitos na empresa é de 12% ou inferior a 12%.\n",
    "\n",
    "Para se testar a hipótese de interesse, entrevistou-se 50 funcionários e obteve-se uma proporção amostral de 9%. Considerar 99% de confiança.\n",
    "\n",
    "**Respostas**\n",
    "\n",
    "(a) Construa as hipóteses do teste.\n",
    "\n",
    "\n",
    "(b) Calcule o valor da estatística do teste.\n",
    "\n",
    "(c) Realize a tomada de decisão do teste pela regra do p-valor.\n",
    "\n",
    "(d) Realize a tomada de decisão pela regra da região crítica.\n"
   ]
  },
  {
   "cell_type": "markdown",
   "metadata": {},
   "source": [
    "##### a)\n",
    "\n",
    "$H_0: p \\leq 12\\%$\n",
    "\n",
    "$H_1: p > 12\\%$"
   ]
  },
  {
   "cell_type": "markdown",
   "metadata": {},
   "source": [
    "##### b)\n",
    "\n",
    "# $$z = \\dfrac{\\bar p - p}{\\sqrt{\\frac{p . (1-p)}{n}}}$$"
   ]
  },
  {
   "cell_type": "code",
   "execution_count": 41,
   "metadata": {
    "id": "EE3r8637KvCn"
   },
   "outputs": [
    {
     "name": "stdout",
     "output_type": "stream",
     "text": [
      "\n",
      "Valor de Z de teste: -0.65\n"
     ]
    }
   ],
   "source": [
    "p = 0.12\n",
    "p_barra = 0.09\n",
    "n = 50\n",
    "confianca = 0.99\n",
    "tipo_hipotese = '<'\n",
    "# Encontrando estatística do teste\n",
    "z = func_hipotese_proporcao(p=p, p_barra=p_barra, n=n)\n",
    "print(f'\\nValor de Z de teste: {round(z, 2)}')"
   ]
  },
  {
   "cell_type": "markdown",
   "metadata": {},
   "source": [
    "##### c)"
   ]
  },
  {
   "cell_type": "code",
   "execution_count": 42,
   "metadata": {},
   "outputs": [
    {
     "name": "stdout",
     "output_type": "stream",
     "text": [
      "\n",
      ">>> Decisão pelo p-valor\n",
      "\n",
      "Confiança: 0.99\n",
      "Alpha: 0.01\n",
      "P_Valor = 0.26\n"
     ]
    }
   ],
   "source": [
    "print('\\n>>> Decisão pelo p-valor\\n')\n",
    "\n",
    "if tipo_hipotese == 'bilateral':\n",
    "    alpha = 1 - confianca\n",
    "    alpha = alpha / 2\n",
    "    confianca = 1 - alpha\n",
    "else:\n",
    "    alpha = 1 - confianca\n",
    "\n",
    "print(f'Confiança: {round(confianca, 2)}')\n",
    "print(f'Alpha: {round(alpha, 2)}')\n",
    "    \n",
    "if z > 0:\n",
    "    p_value = st.norm.sf(z)\n",
    "else:\n",
    "    p_value = st.norm.sf(z * (-1))\n",
    "\n",
    "if tipo_hipotese == 'bilateral':\n",
    "    p_value *= 2\n",
    "    alpha *= 2\n",
    "\n",
    "print(f'P_Valor = {round(p_value, 2)}')"
   ]
  },
  {
   "cell_type": "markdown",
   "metadata": {},
   "source": [
    "##### d)"
   ]
  },
  {
   "cell_type": "code",
   "execution_count": 43,
   "metadata": {},
   "outputs": [
    {
     "name": "stdout",
     "output_type": "stream",
     "text": [
      "\n",
      ">>> Decisão pela região crítica\n",
      "\n",
      "Z0 com confiança de 0.99 -> 2.33\n"
     ]
    }
   ],
   "source": [
    "print('\\n>>> Decisão pela região crítica\\n')\n",
    "\n",
    "# Inputa a probabilidade e ele mostra o Z\n",
    "z0 = st.norm.ppf(confianca)\n",
    "print('Z0 com confiança de', round(confianca, 2),'->', round(z0, 2))"
   ]
  },
  {
   "cell_type": "markdown",
   "metadata": {
    "id": "S037aVcP5nUJ"
   },
   "source": [
    "## Exercício: Indústria de laticínios\n",
    "\n",
    "Uma indústria de alimentos gostaria de fazer o lançamento de um novo sabor\n",
    "de iogurte e gostaria de testar a preferência entre dois sabores. Para isso, a\n",
    "empresa contou com o apoio de **2.400 voluntários** e chegou-se ao seguinte\n",
    "resultado: **51,8% dos voluntários preferem o sabor A**, enquanto **48,2% preferem o sabor B.** Considere **95% de confiança.**\n",
    "\n",
    "Baseado nos valores obtidos, podemos considerar que realmente existe\n",
    "uma preferência pelo produto A em detrimento do produto B?\n",
    "\n",
    "**Resposta:** \n"
   ]
  },
  {
   "cell_type": "markdown",
   "metadata": {},
   "source": [
    "$H_0: A \\Rightarrow p = 51,8\\%$\n",
    "\n",
    "$H_1: A \\Rightarrow  p \\neq 51,8\\%$\n",
    "\n",
    "$n = 2400$\n",
    "\n",
    "$confianca = 95\\%$\n",
    "\n",
    "$\\alpha = 1 - confianca$\n",
    "\n",
    "$\\alpha = 0.05$"
   ]
  },
  {
   "cell_type": "code",
   "execution_count": 44,
   "metadata": {
    "id": "1wxK1UiJMdBE"
   },
   "outputs": [
    {
     "name": "stdout",
     "output_type": "stream",
     "text": [
      "Definindo Hipoteses:\n",
      "H0: p = 0.5\n",
      "H1: p != 0.5\n",
      "Confiança: 0.97\n",
      "Alpha: 0.03\n",
      "\n",
      "Valor de Z de teste: 1.76\n",
      "_____________\n",
      "\n",
      ">>> Decisão pela região crítica\n",
      "\n",
      "Z0 com confiança de 0.97 -> 1.96\n",
      "_____________\n",
      "\n",
      ">>> Decisão pelo p-valor\n",
      "\n",
      "P Valor do Teste: 0.08\n",
      "Valor Alpha: 0.05\n",
      "_____________\n",
      "\n",
      ">>> Intervalo de Confiânça\n",
      "\n",
      "Intervalo de Confiança: (0.5, 0.54)\n",
      "_____________\n"
     ]
    }
   ],
   "source": [
    "p = 0.5\n",
    "p_barra = 0.518\n",
    "n = 2400\n",
    "confianca = 0.95\n",
    "tipo_hipotese = 'bilateral'\n",
    "\n",
    "func_teste_de_hipoteses_prop(p=p, p_barra=p_barra, n=n, confianca=confianca, tipo_hipotese=tipo_hipotese)"
   ]
  },
  {
   "cell_type": "code",
   "execution_count": null,
   "metadata": {},
   "outputs": [],
   "source": []
  }
 ],
 "metadata": {
  "colab": {
   "collapsed_sections": [],
   "name": "Cópia de Lista TESTE DE HIPOTESE.ipynb",
   "provenance": []
  },
  "kernelspec": {
   "display_name": "Python 3",
   "language": "python",
   "name": "python3"
  },
  "language_info": {
   "codemirror_mode": {
    "name": "ipython",
    "version": 3
   },
   "file_extension": ".py",
   "mimetype": "text/x-python",
   "name": "python",
   "nbconvert_exporter": "python",
   "pygments_lexer": "ipython3",
   "version": "3.8.8"
  }
 },
 "nbformat": 4,
 "nbformat_minor": 1
}
