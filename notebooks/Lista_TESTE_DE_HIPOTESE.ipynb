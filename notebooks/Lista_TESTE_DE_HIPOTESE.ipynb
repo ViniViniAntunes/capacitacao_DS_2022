{
  "nbformat": 4,
  "nbformat_minor": 0,
  "metadata": {
    "colab": {
      "name": "Cópia de Lista TESTE DE HIPOTESE.ipynb",
      "provenance": [],
      "collapsed_sections": []
    },
    "kernelspec": {
      "name": "python3",
      "display_name": "Python 3"
    }
  },
  "cells": [
    {
      "cell_type": "markdown",
      "metadata": {
        "id": "PkVLTYkXHJTy"
      },
      "source": [
        "# Tema da Aula: Teste de Hipótese \n"
      ]
    },
    {
      "cell_type": "markdown",
      "metadata": {
        "id": "J-LS2XMI3Y_f"
      },
      "source": [
        "## Imports"
      ]
    },
    {
      "cell_type": "code",
      "metadata": {
        "id": "veDgs-QsHKD_"
      },
      "source": [
        "import numpy as np\n",
        "import scipy.stats\n",
        "import scipy.stats as st"
      ],
      "execution_count": 3,
      "outputs": []
    },
    {
      "cell_type": "markdown",
      "metadata": {
        "id": "pScJtksxlBNR"
      },
      "source": [
        "## Funções"
      ]
    },
    {
      "cell_type": "code",
      "metadata": {
        "id": "ooT_CifZlC4-"
      },
      "source": [
        "def calculo_z(x_barra, u, std, n):\n",
        "  return (x_barra - u) / (std / (n**0.5))\n",
        "\n",
        "def calculo_t(x_barra, u, s, n):\n",
        "  return (x_barra - u) /( s / (n**0.5))\n",
        "\n",
        "\n",
        "def margem_de_erro(z_value, std, n):\n",
        "\n",
        "  margem_erro = z_value * (std / (n ** 0.5))\n",
        "\n",
        "  return margem_erro\n",
        "\n",
        "def margem_de_erro_t(t, std_amostral, n):\n",
        "  \"\"\" \n",
        "  Trata-se da mesma fórmula de margem de erro, mas com notações diferentes.\n",
        "  \"\"\"\n",
        "\n",
        "  margem_erro = t * (std_amostral / (n ** 0.5))\n",
        "\n",
        "  return margem_erro\n",
        "\n",
        "def intervalo_confianca(x, margem_de_erro):\n",
        "  return x - margem_de_erro, x + margem_de_erro\n",
        "\n",
        "def func_teste_de_hipoteses(n, u, x, std, confianca, tipo_hipotese, teste):\n",
        "  \"\"\"\n",
        "  tipo_hipotese => ['bilateral', '>', '<']\n",
        "  teste => 't ou 'z'\n",
        "  \"\"\"\n",
        "\n",
        "  if teste == 't':\n",
        "    s = std\n",
        "\n",
        "  # Defina H0 e H1\n",
        "  H0 = 'H0: u = ' + str(u)\n",
        "  if tipo_hipotese == 'bilateral':\n",
        "    H1 = 'H1: u != '+ str(u)\n",
        "  else:\n",
        "    H1 = f'H1: u {tipo_hipotese} '+ str(u)\n",
        "\n",
        "  print('Definindo Hipoteses:')\n",
        "  print(H0)\n",
        "  print(H1)\n",
        "\n",
        "  if tipo_hipotese == 'bilateral':\n",
        "    alpha = 1 - confianca\n",
        "    alpha = alpha / 2\n",
        "    confianca = 1 - alpha\n",
        "  else:\n",
        "    alpha = 1 - confianca\n",
        "  print(f'Confiança: {confianca}')\n",
        "  print(f'Alpha: {alpha}')\n",
        "\n",
        "\n",
        "  # Encontrando estatística do teste\n",
        "  if teste == 't':\n",
        "    t = calculo_t(x, u, s, n)\n",
        "    print(f'\\nValor de t: {t}')\n",
        "  else:\n",
        "    z = calculo_z(x, u, std, n)\n",
        "    print(f'\\nValor de Z: {z}')\n",
        "\n",
        "\n",
        "  print('_____________')\n",
        "\n",
        "  ##############################\n",
        "  ## Decisão pela região crítica\n",
        "  ##############################\n",
        "\n",
        "  print('\\n>>> Decisão pela região crítica\\n')\n",
        "\n",
        "  import scipy.stats as st\n",
        "\n",
        "  if teste == 't':\n",
        "    graus_de_liberdade = n -1\n",
        "    t0 = scipy.stats.t.ppf(confianca, graus_de_liberdade)\n",
        "    print('T0 com confiança de', confianca,'->', t0)\n",
        "  else:\n",
        "    # Inputa a probabilidade e ele mostra o Z\n",
        "    z0 = st.norm.ppf(confianca)\n",
        "    print('Z0 com confiança de', confianca,'->', z0)\n",
        "\n",
        "  print('_____________')\n",
        "\n",
        "  #######################\n",
        "  ## Decisão pelo p-valor\n",
        "  #######################\n",
        "\n",
        "  print('\\n>>> Decisão pelo p-valor\\n')\n",
        "\n",
        "  if teste == 't':\n",
        "    if t > 0:\n",
        "      p_value = scipy.stats.t.sf(t, graus_de_liberdade)\n",
        "    else:\n",
        "      p_value = scipy.stats.t.sf(t * (-1), graus_de_liberdade)\n",
        "  else:\n",
        "    if z > 0:\n",
        "      p_value = scipy.stats.norm.sf(z)\n",
        "    else:\n",
        "      p_value = scipy.stats.norm.sf(z * (-1))\n",
        "\n",
        "  if tipo_hipotese == 'bilateral':\n",
        "    p_value *= 2\n",
        "    alpha *= 2\n",
        "\n",
        "  print(f'P Valor do Teste: {p_value}')\n",
        "  print(f'Valor Alpha: {alpha}')\n",
        "  print('_____________')\n",
        "\n",
        "  #########################\n",
        "  ## Intervalo de Confiânça\n",
        "  #########################\n",
        "\n",
        "  print('\\n>>> Intervalo de Confiânça\\n')\n",
        "\n",
        "  if teste == 't':\n",
        "    margem = margem_de_erro_t(t0, s, n)\n",
        "  else:\n",
        "    margem = margem_de_erro(z0, std, n)\n",
        "\n",
        "  #Calculando intervalo de confiança\n",
        "  intervalo = intervalo_confianca(x, margem)\n",
        "  print(f'Intervalo de Confiança: {intervalo}')\n",
        "  print('_____________')\n",
        "\n",
        "def func_hipotese_proporcao(p, p_barra, n):\n",
        "  \"\"\"\n",
        "  p é a proporção populacional\n",
        "  p_barra é a proporção amostral\n",
        "  n é o tamanho da amostra\n",
        "  \"\"\"\n",
        "\n",
        "  superior = (p_barra - p)\n",
        "  inferior = (p*(1-p)) / n\n",
        "\n",
        "  return superior / (inferior ** 0.5)\n",
        "\n",
        "\n",
        "def func_margem_de_erro_prop(z, p_barra, n):\n",
        "  temp = (p_barra* (1- p_barra)) / n\n",
        "  me = z * (temp ** 0.5)\n",
        "  return me\n",
        "\n",
        "def func_intervalo_confianca_prop(p_barra, me):\n",
        "  return p_barra - me, p_barra + me\n",
        "\n",
        "def func_teste_de_hipoteses_prop(p, p_barra, n, confianca, tipo_hipotese):\n",
        "  \"\"\"\n",
        "  tipo_hipotese => ['bilateral', '>', '<']\n",
        "  \"\"\"\n",
        "\n",
        "  # Defina H0 e H1\n",
        "  H0 = 'H0: u = ' + str(p)\n",
        "  if tipo_hipotese == 'bilateral':\n",
        "    H1 = 'H1: u != '+ str(p)\n",
        "  else:\n",
        "    H1 = f'H1: u {tipo_hipotese} '+ str(p)\n",
        "\n",
        "  print('Definindo Hipoteses:')\n",
        "  print(H0)\n",
        "  print(H1)\n",
        "\n",
        "  if tipo_hipotese == 'bilateral':\n",
        "    alpha = 1 - confianca\n",
        "    alpha = alpha / 2\n",
        "    confianca = 1 - alpha\n",
        "  else:\n",
        "    alpha = 1 - confianca\n",
        "  print(f'Confiança: {confianca}')\n",
        "  print(f'Alpha: {alpha}')\n",
        "\n",
        "\n",
        "  # Encontrando estatística do teste\n",
        "  z = func_hipotese_proporcao(p, p_barra, n)\n",
        "  print(f'\\nValor de Z: {z}')\n",
        "  print('_____________')\n",
        "\n",
        "  ##############################\n",
        "  ## Decisão pela região crítica\n",
        "  ##############################\n",
        "\n",
        "  print('\\n>>> Decisão pela região crítica\\n')\n",
        "\n",
        "  import scipy.stats as st\n",
        "  # Inputa a probabilidade e ele mostra o Z\n",
        "  z0 = st.norm.ppf(confianca)\n",
        "  print('Z0 com confiança de', confianca,'->', z0)\n",
        "\n",
        "  print('_____________')\n",
        "\n",
        "  #######################\n",
        "  ## Decisão pelo p-valor\n",
        "  #######################\n",
        "\n",
        "  print('\\n>>> Decisão pelo p-valor\\n')\n",
        "\n",
        "  if z > 0:\n",
        "    p_value = scipy.stats.norm.sf(z)\n",
        "  else:\n",
        "    p_value = scipy.stats.norm.sf(z * (-1))\n",
        "\n",
        "  if tipo_hipotese == 'bilateral':\n",
        "    p_value *= 2\n",
        "    alpha *= 2\n",
        "\n",
        "  print(f'P Valor do Teste: {p_value}')\n",
        "  print(f'Valor Alpha: {alpha}')\n",
        "  print('_____________')\n",
        "\n",
        "  #########################\n",
        "  ## Intervalo de Confiânça\n",
        "  #########################\n",
        "\n",
        "  print('\\n>>> Intervalo de Confiânça\\n')\n",
        "\n",
        "  margem = func_margem_de_erro_prop(z0, p_barra, n)\n",
        "\n",
        "  #Calculando intervalo de confiança\n",
        "  intervalo = func_intervalo_confianca_prop(p_barra, margem)\n",
        "  print(f'Intervalo de Confiança: {intervalo}')\n",
        "  print('_____________')"
      ],
      "execution_count": 5,
      "outputs": []
    },
    {
      "cell_type": "markdown",
      "source": [
        "Tabela T: http://www.epi.uff.br/wp-content/uploads/2015/05/Tabela-T.pdf\n",
        "\n",
        "Tabela Z: https://ptdocz.com/doc/964070/tabela-da-distribui%C3%A7%C3%A3o-normal-padr%C3%A3o-unicaudal-p-0-%E2%89%A4-z0-%E2%89%A4-z-"
      ],
      "metadata": {
        "id": "UrfVketbDFW6"
      }
    },
    {
      "cell_type": "markdown",
      "metadata": {
        "id": "SxQueHRBJjy-"
      },
      "source": [
        "## Exercício: Investimento\n",
        "\n",
        "Um gerente de investimentos deseja saber se os valores de investimento para PF do segmento Top Tier é em média R$50.000.\n",
        "\n",
        "Para se testar a hipótese de interesse, retirou-se uma amostra de 100 clientes e obteve-se uma **média de R\\$50.800** com um **desvio padrão de R\\$8.500.**\n",
        "\n",
        "Com **98% de confiança**, qual o valor investido para os clientes Top Tier?\n",
        "\n",
        "Em **média pode-se dizer que os clientes investem R$50.000?**\n",
        "\n",
        "Construa as hipóteses estatísticas e construa a região de aceitação da H0.\n",
        " "
      ]
    },
    {
      "cell_type": "markdown",
      "source": [
        "$H_0 \\$"
      ],
      "metadata": {
        "id": "0z2wtYTzRUu2"
      }
    },
    {
      "cell_type": "code",
      "metadata": {
        "id": "oXdlIAsZJTb-"
      },
      "source": [
        ""
      ],
      "execution_count": null,
      "outputs": []
    },
    {
      "cell_type": "markdown",
      "metadata": {
        "id": "ldW1-bVuJ-8q"
      },
      "source": [
        "## Exercício: Reclamações\n",
        "\n",
        "Uma empresa deseja saber se o **número médio mensal de reclamações é 8.500 ou inferior a 8.500.** Sabe-se que o **desvio padrão populacional é de 600 reclamações**.\n",
        "\n",
        "Considere uma **amostra de 350 clientes**.\n",
        "\n",
        "Na **amostra**, obteve-se um **número médio** mensal de reclamações de **8.400**.\n",
        "\n",
        "Com confiança de 95%, há evidências de que o número de reclamações é inferior a 8.400?\n",
        "\n",
        "**Respostas**\n",
        "\n",
        "(a) Construa as hipóteses do teste.\n",
        "\n",
        "(b) Identifique o nível de significância do teste.\n",
        "\n",
        "\n",
        "(c) Calcule o valor da estatística do teste.\n",
        "\n",
        "(d) Realize a tomada de decisão do teste pela regra do p-valor.\n",
        "\n",
        "(e) Realize a tomada de decisão pela regra da região crítica.\n",
        "\n",
        "(f) Realize a tomada de decisão pelo intervalo de confiança.\n",
        "\n",
        "(g) Com confiança de 95%, há evidências de que o número de reclamações é inferior a 8.400?"
      ]
    },
    {
      "cell_type": "code",
      "metadata": {
        "id": "2nqCY5STKSpl"
      },
      "source": [
        ""
      ],
      "execution_count": null,
      "outputs": []
    },
    {
      "cell_type": "markdown",
      "metadata": {
        "id": "EfyFJnM2KUk5"
      },
      "source": [
        "## Exercício: People Analytics\n",
        "\n",
        "Um gerente de RH que deseja testar se a proporção de funcionários insatisfeitos na empresa é de 12% ou inferior a 12%.\n",
        "\n",
        "Para se testar a hipótese de interesse, entrevistou-se 50 funcionários e obteve-se uma proporção amostral de 9%. Considerar 99% de confiança.\n",
        "\n",
        "**Respostas**\n",
        "\n",
        "(a) Construa as hipóteses do teste.\n",
        "\n",
        "\n",
        "(b) Calcule o valor da estatística do teste.\n",
        "\n",
        "(c) Realize a tomada de decisão do teste pela regra do p-valor.\n",
        "\n",
        "(d) Realize a tomada de decisão pela regra da região crítica.\n"
      ]
    },
    {
      "cell_type": "code",
      "metadata": {
        "id": "EE3r8637KvCn"
      },
      "source": [
        ""
      ],
      "execution_count": null,
      "outputs": []
    },
    {
      "cell_type": "markdown",
      "metadata": {
        "id": "S037aVcP5nUJ"
      },
      "source": [
        "## Exercício: Indústria de laticínios\n",
        "\n",
        "Uma indústria de alimentos gostaria de fazer o lançamento de um novo sabor\n",
        "de iogurte e gostaria de testar a preferência entre dois sabores. Para isso, a\n",
        "empresa contou com o apoio de **2.400 voluntários** e chegou-se ao seguinte\n",
        "resultado: **51,8% dos voluntários preferem o sabor A**, enquanto **48,2% preferem o sabor B.** Considere **95% de confiança.**\n",
        "\n",
        "Baseado nos valores obtidos, podemos considerar que realmente existe\n",
        "uma preferência pelo produto A em detrimento do produto B?\n",
        "\n",
        "**Resposta:** \n"
      ]
    },
    {
      "cell_type": "code",
      "metadata": {
        "id": "1wxK1UiJMdBE"
      },
      "source": [
        ""
      ],
      "execution_count": null,
      "outputs": []
    }
  ]
}